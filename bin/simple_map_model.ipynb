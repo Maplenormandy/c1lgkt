{
 "cells": [
  {
   "cell_type": "markdown",
   "id": "62218a2a",
   "metadata": {},
   "source": [
    "# Map Model\n",
    "Contains codes for a simple area-preseving map model of the more complex gyrokinetic Poincare map"
   ]
  },
  {
   "cell_type": "code",
   "execution_count": 79,
   "id": "2ab60eb4",
   "metadata": {},
   "outputs": [],
   "source": [
    "import numpy as np\n",
    "import matplotlib.pyplot as plt\n",
    "import scipy.optimize"
   ]
  },
  {
   "cell_type": "code",
   "execution_count": 118,
   "id": "2a6db3d0",
   "metadata": {},
   "outputs": [],
   "source": [
    "# %% Define and test the simple map model\n",
    "\n",
    "# Zonal flow curvature\n",
    "curv = 0.75*2\n",
    "# Envelope scale\n",
    "jscale = 0.1\n",
    "# Perturbation amplitude\n",
    "eps = -0.0025\n",
    "\n",
    "# Envelope function and its derivative\n",
    "def env_func(j):\n",
    "    return np.exp(-0.5 * j**2 / jscale**2)\n",
    "def denv_func(j):\n",
    "    return -j / jscale**2 * env_func(j)\n",
    "\n",
    "# Define the map function\n",
    "def map_advance(j, theta):\n",
    "    # Generating function is - A(J) * cos(n * theta)\n",
    "\n",
    "    # Compute the new action; implict solve using Newton iteration\n",
    "    j2_guess = j + env_func(j) * np.sin(39*theta) * eps * 39\n",
    "    j2 = scipy.optimize.newton(\n",
    "        lambda j2: j2 - j - env_func(j2) * np.sin(39*theta) * eps * 39,\n",
    "        j2_guess,\n",
    "        fprime= lambda j2: 1 - denv_func(j2) * np.sin(39*theta) * eps * 39\n",
    "    )\n",
    "    #j2 = j + np.sin(39*theta) * eps\n",
    "\n",
    "    theta2 = theta + 0.03 + 0.75 * 0.5 * curv * j2**2 + denv_func(j2) * np.cos(39*theta) * eps\n",
    "\n",
    "    return j2, theta2\n",
    "\n",
    "# Number of initial particles and number of steps to advance\n",
    "num_p = 128\n",
    "num_steps = 1024\n",
    "\n",
    "\n",
    "\n",
    "# Initialize particles\n",
    "j = np.zeros((num_p, num_steps))\n",
    "theta = np.zeros((num_p, num_steps))\n",
    "j[:, 0] = np.linspace(-0.15, 0.15, num_p)\n",
    "theta[:, 0] = np.linspace(0, 2*np.pi, num_p, endpoint=False)\n",
    "\n",
    "# Advance particles through the map\n",
    "for step in range(1, num_steps):\n",
    "    for p in range(num_p):\n",
    "        j[p, step], theta[p, step] = map_advance(j[p, step-1], theta[p, step-1])\n",
    "\n",
    "\n"
   ]
  },
  {
   "cell_type": "code",
   "execution_count": 117,
   "id": "7976a8c8",
   "metadata": {},
   "outputs": [
    {
     "data": {
      "text/plain": [
       "<matplotlib.collections.PathCollection at 0x1b53a9dc7d0>"
      ]
     },
     "execution_count": 117,
     "metadata": {},
     "output_type": "execute_result"
    }
   ],
   "source": [
    "# %% Plot the results\n",
    "\n",
    "%matplotlib qt\n",
    "\n",
    "j0 = np.zeros((num_p, num_steps))\n",
    "j0[:, :] = (j[:, 0])[:, np.newaxis]\n",
    "\n",
    "plt.figure()\n",
    "plt.scatter(j[:, :], np.mod(theta[:, :],2*np.pi/39), s=1, c=j0, lw=0)"
   ]
  },
  {
   "cell_type": "code",
   "execution_count": null,
   "id": "f377f958",
   "metadata": {},
   "outputs": [],
   "source": []
  }
 ],
 "metadata": {
  "kernelspec": {
   "display_name": "Python 3",
   "language": "python",
   "name": "python3"
  },
  "language_info": {
   "codemirror_mode": {
    "name": "ipython",
    "version": 3
   },
   "file_extension": ".py",
   "mimetype": "text/x-python",
   "name": "python",
   "nbconvert_exporter": "python",
   "pygments_lexer": "ipython3",
   "version": "3.12.6"
  }
 },
 "nbformat": 4,
 "nbformat_minor": 5
}
