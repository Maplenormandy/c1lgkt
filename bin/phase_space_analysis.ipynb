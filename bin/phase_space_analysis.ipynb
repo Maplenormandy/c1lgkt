{
 "cells": [
  {
   "cell_type": "markdown",
   "metadata": {},
   "source": [
    "# Phase Space Analysis\n",
    "Code to look at particle trajectories in the integrable phase space"
   ]
  },
  {
   "cell_type": "markdown",
   "metadata": {},
   "source": [
    "## Setup"
   ]
  },
  {
   "cell_type": "code",
   "execution_count": 1,
   "metadata": {},
   "outputs": [],
   "source": [
    "# %% Imports\n",
    "%load_ext autoreload\n",
    "%autoreload 2\n",
    "\n",
    "import numpy as np\n",
    "import scipy.integrate\n",
    "import scipy.interpolate\n",
    "\n",
    "## Visualization\n",
    "import matplotlib.pyplot as plt\n",
    "import matplotlib as mpl\n",
    "\n",
    "import pyvista as pv\n",
    "\n",
    "from tqdm import tqdm\n",
    "%matplotlib qt\n",
    "\n",
    "## Utility libraries\n",
    "from netCDF4 import Dataset\n",
    "\n",
    "from c1lgkt.fields.equilibrium import Equilibrium\n",
    "from c1lgkt.fields.field_handlers import GaussHermiteFieldHandler, XgcZonalFieldHandler, GaussHermiteFunction\n",
    "from c1lgkt.fields.field_interpolators import compute_balloon_interpolation\n",
    "from c1lgkt.fields.geometry_handlers import XgcGeomHandler\n",
    "\n",
    "import c1lgkt.particles.particle_motion as particle_motion\n",
    "import c1lgkt.particles.particle_tools as particle_tools"
   ]
  },
  {
   "cell_type": "code",
   "execution_count": 4,
   "metadata": {},
   "outputs": [],
   "source": [
    "# %% Load data files\n",
    "\n",
    "eq = Equilibrium.from_eqdfile(R'D:\\Documents\\IFS\\hmode_jet\\D3D141451.eqd')\n",
    "\n",
    "xgcdata = Dataset(R'D:\\Documents\\Globus\\XGC1.nc')\n",
    "\n",
    "geom_files = {\n",
    "    'ele_filename': R'D:\\Documents\\IFS\\hmode_jet\\Seo.eqd.ele',\n",
    "    'fdmat_filename': R'D:\\Documents\\IFS\\hmode_jet\\fdmat.pkl',\n",
    "    'min_e_filename': R'D:\\Documents\\IFS\\hmode_jet\\min_E_mat.pkl'\n",
    "}\n",
    "geom = XgcGeomHandler(eq, xgcdata, **geom_files)\n",
    "\n",
    "# Set up zonal interpolation function\n",
    "tind = 401\n",
    "zonalFields = XgcZonalFieldHandler(eq, xgcdata, 401)\n",
    "\n",
    "# Load phase velocities\n",
    "uph = np.load('./outputs/phase_vel.npz')['u_lstsq']\n",
    "interp_uph = scipy.interpolate.CubicSpline(geom.psi_surf, uph[tind,:])"
   ]
  },
  {
   "cell_type": "code",
   "execution_count": 3,
   "metadata": {},
   "outputs": [
    {
     "data": {
      "text/plain": [
       "Text(0, 0.5, \"$\\\\Omega_{ZF}'(\\\\psi) / q'(\\\\psi)$\")"
      ]
     },
     "execution_count": 3,
     "metadata": {},
     "output_type": "execute_result"
    }
   ],
   "source": [
    "# %% Plot phase space velocities\n",
    "\n",
    "plt.figure()\n",
    "\n",
    "ax = plt.subplot(211)\n",
    "plt.plot(geom.psi_surf / eq.psix, uph[tind,:] * geom.q_surf, label='DW phase velocity')\n",
    "plt.plot(geom.psi_surf / eq.psix, -zonalFields.interp_phi(geom.psi_surf, nu=1), label='ZFs')\n",
    "plt.axvline(geom.psi_surf[200] / eq.psix)\n",
    "plt.ylabel(R'$\\Omega$')\n",
    "plt.title('Toroidal rotation rate of turbulence and ZFs')\n",
    "\n",
    "plt.legend()\n",
    "\n",
    "plt.subplot(212, sharex=ax)\n",
    "plt.semilogy(geom.psi_surf / eq.psix, np.abs(zonalFields.interp_phi(geom.psi_surf, nu=2)) / np.abs(geom.interp_q(geom.psi_surf, nu=1)))\n",
    "#plt.semilogy(geom.psi_surf / eq.psix, )\n",
    "plt.title('ZF shear vs. magnetic shear')\n",
    "plt.xlabel(R'$\\psi_n$')\n",
    "plt.ylabel(R\"$\\Omega_{ZF}'(\\psi) / q'(\\psi)$\")"
   ]
  },
  {
   "cell_type": "markdown",
   "metadata": {},
   "source": [
    "## Particle Pushing"
   ]
  },
  {
   "cell_type": "code",
   "execution_count": 19,
   "metadata": {},
   "outputs": [],
   "source": [
    "# %% Set up particle properties\n",
    "\n",
    "# Set up rotating frame\n",
    "tind0 = 401\n",
    "omega_frame = -uph[tind0,196]*geom.q_surf[196]*1e-3\n",
    "rotating_frame = particle_motion.RotatingFrameInfo(0, omega_frame, tind0)\n",
    "t0 = rotating_frame.t0\n",
    "\n",
    "# Choose which particle properties to use\n",
    "pp = particle_motion.deut\n",
    "\n",
    "# Set initial position and parallel velocity\n",
    "r0 = eq.interp_router(geom.psi_surf[196]/eq.psix)\n",
    "z0 = geom.zaxis\n",
    "x0 = np.array([r0, 0.0, z0])\n",
    "\n",
    "# Compute magnetic field at initial position\n",
    "bv = eq.compute_bv(x0[0], x0[2])\n",
    "modb = np.linalg.norm(bv)\n",
    "bu = bv / modb\n",
    "\n",
    "## Compute the rotation frequency and the mean parallel velocity\n",
    "psi0 = eq.interp_psi.ev(x0[0], x0[2])\n",
    "omega0 = -zonalFields.interp_phi(psi0, nu=1)*zonalFields.scale_conversion()\n",
    "vll_mean = eq.interp_ff(psi0) * omega0 / modb\n",
    "\n",
    "## Determine the initial values of the integrals\n",
    "\n",
    "# Particle kinetic energy in keV\n",
    "ev0 = 0.7\n",
    "# Set the initial pitch angle squared (cosine^2 of the angle between velocity and magnetic field)\n",
    "xi0 = 0.33\n",
    "# Set the initial parallel velocity\n",
    "vll0 = vll_mean + pp.vt * np.sqrt(xi0) * np.sqrt(ev0)\n",
    "# Initial magnetic moment\n",
    "mu0 = pp.m * (np.sqrt(1-xi0)*pp.vt * np.sqrt(ev0))**2 / 2 / modb\n",
    "\n",
    "# Compute initial integrals\n",
    "ham0, lphi0 = particle_tools.compute_integrals_dk(t0, np.concatenate((x0, [vll0, mu0])), eq, pp, zonalFields, rotating_frame)\n"
   ]
  },
  {
   "cell_type": "code",
   "execution_count": 28,
   "metadata": {},
   "outputs": [
    {
     "name": "stdout",
     "output_type": "stream",
     "text": [
      "K = 0.7; cos(xi) = -0.7777777777777778; Jref = 0.36990619158428134\n"
     ]
    },
    {
     "name": "stderr",
     "output_type": "stream",
     "text": [
      "100%|██████████| 32/32 [00:05<00:00,  6.11it/s]\n"
     ]
    },
    {
     "name": "stdout",
     "output_type": "stream",
     "text": [
      "K = 0.7; cos(xi) = -0.5555555555555556; Jref = 0.3693980764541321\n"
     ]
    },
    {
     "name": "stderr",
     "output_type": "stream",
     "text": [
      "100%|██████████| 32/32 [00:07<00:00,  4.17it/s]\n"
     ]
    },
    {
     "name": "stdout",
     "output_type": "stream",
     "text": [
      "K = 0.7; cos(xi) = -0.33333333333333337; Jref = 0.3680917491573828\n"
     ]
    },
    {
     "name": "stderr",
     "output_type": "stream",
     "text": [
      "100%|██████████| 32/32 [00:08<00:00,  3.90it/s]\n"
     ]
    },
    {
     "name": "stdout",
     "output_type": "stream",
     "text": [
      "K = 0.7; cos(xi) = -0.11111111111111116; Jref = 0.3660132902973319\n"
     ]
    },
    {
     "name": "stderr",
     "output_type": "stream",
     "text": [
      "100%|██████████| 32/32 [00:05<00:00,  5.61it/s]\n"
     ]
    },
    {
     "name": "stdout",
     "output_type": "stream",
     "text": [
      "K = 0.7; cos(xi) = 0.11111111111111116; Jref = 0.3637383508669102\n"
     ]
    },
    {
     "name": "stderr",
     "output_type": "stream",
     "text": [
      "100%|██████████| 32/32 [00:05<00:00,  5.38it/s]\n"
     ]
    },
    {
     "name": "stdout",
     "output_type": "stream",
     "text": [
      "K = 0.7; cos(xi) = 0.33333333333333326; Jref = 0.36169317514735194\n"
     ]
    },
    {
     "name": "stderr",
     "output_type": "stream",
     "text": [
      "100%|██████████| 32/32 [00:08<00:00,  3.91it/s]\n"
     ]
    },
    {
     "name": "stdout",
     "output_type": "stream",
     "text": [
      "K = 0.7; cos(xi) = 0.5555555555555554; Jref = 0.3604243628953301\n"
     ]
    },
    {
     "name": "stderr",
     "output_type": "stream",
     "text": [
      "100%|██████████| 32/32 [00:07<00:00,  4.28it/s]\n"
     ]
    },
    {
     "name": "stdout",
     "output_type": "stream",
     "text": [
      "K = 0.7; cos(xi) = 0.7777777777777777; Jref = 0.35994051092760027\n"
     ]
    },
    {
     "name": "stderr",
     "output_type": "stream",
     "text": [
      "100%|██████████| 32/32 [00:05<00:00,  5.62it/s]\n"
     ]
    }
   ],
   "source": [
    "# %% Perform some particle pushing\n",
    "\n",
    "pp = particle_motion.deut\n",
    "\n",
    "#fields.set_phimult(1)\n",
    "\n",
    "# Grid of radial points to check\n",
    "#if pp.z > 0:\n",
    "#    psin_grid = np.linspace(0.93, 1.02, 64)\n",
    "#else:\n",
    "#    psin_grid = np.linspace(0.95, 1.00, 4)\n",
    "\n",
    "#psin_grid = np.array([0.8])\n",
    "psin_grid = np.linspace(0.77, 0.83, 32, endpoint=False)\n",
    "#psin_grid = np.array([0.81])\n",
    "router_grid = eq.interp_router(psin_grid)\n",
    "rinner_grid = eq.interp_rinner(psin_grid)\n",
    "\n",
    "\n",
    "## Reference quantities for the `initial particle distribution'\n",
    "# Which flux surface to put the reference particle on\n",
    "#psin_ref = 0.9716\n",
    "psin_ref = 0.79\n",
    "ff_ref = eq.interp_ff(psin_ref*eq.psix)\n",
    "\n",
    "r_outer_ref = eq.interp_router(psin_ref)\n",
    "bv_outer_ref = eq.compute_bv(eq.interp_router(psin_ref), 0)\n",
    "modb_outer_ref = np.linalg.norm(bv_outer_ref)\n",
    "bu_outer_ref = bv_outer_ref / modb_outer_ref\n",
    "\n",
    "r_inner_ref = eq.interp_rinner(psin_ref)\n",
    "bv_inner_ref = eq.compute_bv(eq.interp_rinner(psin_ref), 0)\n",
    "modb_inner_ref = np.linalg.norm(bv_inner_ref)\n",
    "bu_inner_ref = bv_inner_ref / modb_inner_ref\n",
    "\n",
    "# Grid of reference particle kinetic energies in keV\n",
    "kev_grid = np.array([0.7])\n",
    "\n",
    "# Grid for mu; we do a hybrid between an equal spacing in pitch angle xi = cos(theta)\n",
    "# and a factor which deals with the fact that at different poloidal angles, we have\n",
    "# different distributions for mu.\n",
    "# Pitch angle is defined as the angle between v and B.\n",
    "xi_grid = np.linspace(-1, 1, 10)[1:-1]\n",
    "pol_grid = np.linspace(0, np.pi, len(xi_grid)+2)[1:-1]\n",
    "modb_pol_grid = modb_outer_ref * np.sin(pol_grid)**2 + modb_inner_ref * np.cos(pol_grid)**2\n",
    "mu_grid = kev_grid[:,np.newaxis] * (1 - xi_grid[np.newaxis,:]**2) / modb_pol_grid[np.newaxis,:]\n",
    "\n",
    "# Toroidal component of the angular momentum\n",
    "bu_t_pol_grid = bu_outer_ref[1] * np.sin(pol_grid)**2 + bu_inner_ref[1] * np.cos(pol_grid)**2\n",
    "r_pol_grid = r_outer_ref * np.sin(pol_grid)**2 + r_inner_ref * np.cos(pol_grid)**2\n",
    "\n",
    "# Rotation velocity of reference Maxwellian. The idea is that we add the parallel velocity\n",
    "# to the baseline particle energy\n",
    "omega_rotation = -zonalFields.interp_phi(psin_ref*eq.psix, nu=1)*zonalFields.scale_conversion()\n",
    "\n",
    "# Omega of the rotating mode; assume that perturbations are typically of the form\n",
    "# exp(n*j*(omega_J * t - varphi)), i.e. rigidly toroidally rotating modes,\n",
    "# which will then conserve the combination J = H + omega_J * P_\\varphi.\n",
    "# We assume that this J is then an adiabatic invariant of sorts.\n",
    "#omega_adiabat = -fields.interp_phi(psin_ref*eq.psix, nu=1)*zonalFields.scale_conversion()\n",
    "#omega_adiabat = 0\n",
    "omega_adiabat = interp_uph(psin_ref * eq.psix) *1e-3 * geom.interp_q(psin_ref * eq.psix)\n",
    "\n",
    "## Array to hold the solutions\n",
    "sol_array = np.empty((len(kev_grid), len(xi_grid), len(psin_grid)), dtype=object)\n",
    "\n",
    "## The idea is that we want to scan different orbits for each fixed (Jref, mu).\n",
    "# The inner loop gives the classes of orbits that can get collisionlessly scattered\n",
    "# into/out of when a perturbation is added. In the current formulation, where\n",
    "# kinetic energy is in the outer-most loop, the idea is that if pitch-angle scattering\n",
    "# is the dominant collisional mechanism, then particles will remain in the same\n",
    "# kinetic energy `shell'. \n",
    "for k_e in range(len(kev_grid)):\n",
    "    for k_xi in range(len(xi_grid)):\n",
    "        # Compute mean parallel velocity\n",
    "        vll_mean = ff_ref * omega_rotation / modb_pol_grid[k_xi]\n",
    "\n",
    "        # Compute parallel velocity from the pitch angle\n",
    "        vll_pitch = np.sqrt(2 * kev_grid[k_e] / pp.m) * xi_grid[k_xi]\n",
    "\n",
    "        # Reference velocity = pitch angle + mean components\n",
    "        vll_ref = vll_mean + vll_pitch\n",
    "\n",
    "        # Kinetic energy associated with perpendicular and parallel directions\n",
    "        ke_mu = kev_grid[k_e] * (1 - xi_grid[k_xi]**2)\n",
    "        ke_ll = pp.m * vll_ref**2 / 2\n",
    "\n",
    "        # Baseline energy, chosen to be a thermal particle at the nontwist torus\n",
    "        ham_ref = ke_ll + ke_mu + pp.z*zonalFields.interp_phi(psin_ref*eq.psix)*zonalFields.scale_conversion()\n",
    "\n",
    "        # Baseline angular momentum\n",
    "        lphi_ref = pp.z*psin_ref*eq.psix + pp.m*vll_ref*bu_t_pol_grid[k_xi]*r_pol_grid[k_xi]\n",
    "\n",
    "        # Baseline magnetic moment\n",
    "        mu_ref = mu_grid[k_e,k_xi]\n",
    "        \n",
    "        # The adiabatic invariant J associated with a rigid toroidally rotating mode\n",
    "        adiabat_ref = ham_ref + lphi_ref * omega_adiabat\n",
    "        \n",
    "        \n",
    "        print('K = {}; cos(xi) = {}; Jref = {}'.format(kev_grid[k_e], xi_grid[k_xi], adiabat_ref))\n",
    "        \n",
    "        for k_psin in tqdm(range(len(psin_grid))):\n",
    "            # Via conservation of the adiabatic invariant Jref, we have that\n",
    "            # J = H(R,pll) - omega_J * P_{\\varphi}(R,pll) = Jref. Note that this is\n",
    "            # a quadratic equation in pll = mi * vll. We specify R, then collect\n",
    "            # the coefficients as c2 vll^2 + c1 vll^1 + c0 = 0 to solve for vll\n",
    "            # in terms of (R,Jref).\n",
    "            \n",
    "            psin = psin_grid[k_psin]\n",
    "            psi = psin*eq.psix\n",
    "            \n",
    "            # Alternate between taking the inner and outer flux surface\n",
    "            if k_psin % 2 == 0:\n",
    "                r = router_grid[k_psin]\n",
    "            else:\n",
    "                r = rinner_grid[k_psin]\n",
    "            \n",
    "            bv = eq.compute_bv(r, 0)\n",
    "            modb = np.linalg.norm(bv)\n",
    "            bu = bv / modb\n",
    "            \n",
    "            mu0 = mu_ref\n",
    "            \n",
    "            c0 = mu0 * modb + pp.z * zonalFields.interp_phi(psi)*zonalFields.scale_conversion() + pp.z * omega_adiabat * psi - adiabat_ref\n",
    "            c1 = omega_adiabat * pp.m * bu[1] * r\n",
    "            c2 = 0.5 * pp.m\n",
    "            \n",
    "            # Check if the term in the square root is positive, i.e. check for admissibility\n",
    "            if (c1**2 - 4*c2*c0) < 0:\n",
    "                continue\n",
    "            else:\n",
    "                x0 = np.array([r, 0, 0])\n",
    "                vll0 = (-c1 + np.sign(xi_grid[k_xi]) * np.sqrt(c1**2 - 4*c2*c0)) / 2 / c2\n",
    "                \n",
    "                z0 = np.concatenate((x0, [vll0, mu0]))\n",
    "                \n",
    "                dz0 = particle_motion.f_driftkinetic(0, z0, eq, pp, zonalFields)\n",
    "                \n",
    "                event_transit = particle_motion.event_copassing if dz0[2] > 0 else particle_motion.event_ctrpassing\n",
    "                \n",
    "                sol_array[k_e,k_xi,k_psin] = scipy.integrate.solve_ivp(particle_motion.f_driftkinetic,\n",
    "                                                   [0, 300], z0,\n",
    "                                                   atol=1e-8, rtol=1e-8,\n",
    "                                                   args=(eq, pp, zonalFields),\n",
    "                                                   events=[event_transit, particle_motion.event_botloss])\n"
   ]
  },
  {
   "cell_type": "code",
   "execution_count": 29,
   "metadata": {},
   "outputs": [],
   "source": [
    "\n",
    "# %% Compute and plot frequencies\n",
    "\n",
    "k_kev = 0\n",
    "\n",
    "plt.figure()\n",
    "ax = plt.subplot(121)\n",
    "axt = plt.subplot(122)\n",
    "#ax = plt.subplot(111)\n",
    "\n",
    "plt.figure()\n",
    "ax_tor = plt.subplot(211)\n",
    "ax_pol = plt.subplot(212)\n",
    "\n",
    "for k_xi in range(len(xi_grid)):\n",
    "#for k_xi in [2,-3]:\n",
    "    for k in range(len(psin_grid)):\n",
    "        if sol_array[k_kev,k_xi,k] is None:\n",
    "            continue\n",
    "        elif len(sol_array[k_kev,k_xi,k].t_events[1]) > 0:\n",
    "            continue\n",
    "        else:\n",
    "            sol = sol_array[k_kev,k_xi,k]\n",
    "            #rplot, thplot = rz_to_pol(sol.y[0,:], sol.y[2,:])\n",
    "            #ax.plot(thplot, rplot)\n",
    "            #ax.plot(sol.y[0,:], sol.y[2,:])\n",
    "            omega_tor, omega_pol, j_axis = particle_tools.compute_frequencies(sol.t, sol.y[0,:], sol.y[2,:], sol.y[1,:], eq)\n",
    "\n",
    "            #ham_sol, lphi_sol, mu_sol = particle_motion.compute_integrals_dk(sol, eq, pp, fields, initial=True)\n",
    "            \n",
    "            #print(np.median(np.diff(sol.t)))\n",
    "\n",
    "            #plot_color = mpl.cm.viridis((mu_grid[k_kev,k_xi] - np.min(mu_grid)) / (np.max(mu_grid) - np.min(mu_grid)))\n",
    "            #plot_color = mpl.cm.viridis(np.abs(xi_grid[k_xi]))\n",
    "            plot_color = mpl.cm.viridis(xi_grid[k_xi]/2+0.5)\n",
    "            \n",
    "            if j_axis == 0:\n",
    "                plot_marker = 'X' if omega_pol > 0 else 'o'\n",
    "            else:\n",
    "                plot_marker = '^' if omega_tor > 0 else 'v'\n",
    "            \n",
    "            \n",
    "            psi_sol = eq.interp_psi.ev(sol.y[0,:], sol.y[2,:])\n",
    "            psi_avg = scipy.integrate.simpson(psi_sol, x=sol.t) / (sol.t[-1] - sol.t[0])\n",
    "            \n",
    "            \n",
    "            # Split plotting trapped and passing particles\n",
    "            if j_axis != 0:\n",
    "                ax.scatter(psi_avg / eq.psix, -(omega_tor + omega_adiabat)/omega_pol, marker=plot_marker, color=plot_color)\n",
    "            else:\n",
    "                plot_color = mpl.cm.viridis(np.abs(xi_grid[k_xi])/2+0.5)\n",
    "                axt.scatter(psi_avg / eq.psix, -(omega_tor + omega_adiabat)/omega_pol, marker=plot_marker, color=plot_color)\n",
    "            \n",
    "            \n",
    "            #ax.scatter(psi_avg / eq.psix, -(omega_tor + omega_adiabat)/omega_pol, marker=plot_marker, color=plot_color)\n",
    "            ax_tor.scatter(psi_avg / eq.psix, omega_tor, marker=plot_marker, color=plot_color)\n",
    "            ax_pol.scatter(psi_avg / eq.psix, omega_pol, marker=plot_marker, color=plot_color)\n",
    "\n",
    "            #ax.scatter(psi_avg / eq.psix, -omega_tor/omega_pol, marker=plot_marker, color=plot_color)\n",
    "            #axt.scatter(psi_avg / eq.psix, 1/omega_pol, marker=plot_marker, color=plot_color)\n",
    "\n",
    "\n",
    "#ax.set_xlabel(r'$\\langle\\psi\\rangle / \\psi_{LCFS}$')\n",
    "#axt.set_xlabel(r'$\\langle\\psi\\rangle / \\psi_{LCFS}$')\n",
    "ax.set_xlabel(r'$P_{\\varphi} / \\psi_{LCFS}$')\n",
    "#axt.set_xlabel(r'$P_{\\varphi} / \\psi_{LCFS}$')\n",
    "ax.set_ylabel(r'$q_{kinetic}$')\n",
    "\n",
    "ax_tor.set_ylabel(R'$\\Omega_{tor}$')\n",
    "ax_pol.set_ylabel(R'$\\Omega_{pol}$')\n",
    "\n",
    "patches = []\n",
    "labels = []\n",
    "\n",
    "for k_xi in range(len(xi_grid)//2):\n",
    "    plot_color1 = mpl.cm.viridis(xi_grid[k_xi]/2+0.5)\n",
    "    plot_color2 = mpl.cm.viridis(xi_grid[-1 - k_xi]/2+0.5)\n",
    "    patches.append((mpl.patches.Patch(color=plot_color1), mpl.patches.Patch(color=plot_color2)))\n",
    "    labels.append('${:.0f}$'.format(mu_grid[k_kev,k_xi] * modb_outer_ref * 1e3))\n",
    "\n",
    "#axt.plot(psin_grid, -fields.interp_phi(psin_grid*eq.psix, nu=1) / 40)\n",
    "\n",
    "ax.set_title('{} at ${}$ eV'.format('electrons' if pp.z < 0 else 'ions', kev_grid[k_kev]*1e3))\n",
    "ax.legend(patches, labels, handler_map = {tuple: mpl.legend_handler.HandlerTuple(ndivide=None)}, title=r'$\\mu B_{LFS}$ [eV]')\n",
    "axt.set_title('(trapped)')\n",
    "\n",
    "plt.tight_layout()\n",
    "plt.show()"
   ]
  },
  {
   "cell_type": "code",
   "execution_count": null,
   "metadata": {},
   "outputs": [],
   "source": []
  }
 ],
 "metadata": {
  "kernelspec": {
   "display_name": "research-forge",
   "language": "python",
   "name": "python3"
  },
  "language_info": {
   "codemirror_mode": {
    "name": "ipython",
    "version": 3
   },
   "file_extension": ".py",
   "mimetype": "text/x-python",
   "name": "python",
   "nbconvert_exporter": "python",
   "pygments_lexer": "ipython3",
   "version": "3.12.6"
  }
 },
 "nbformat": 4,
 "nbformat_minor": 2
}
