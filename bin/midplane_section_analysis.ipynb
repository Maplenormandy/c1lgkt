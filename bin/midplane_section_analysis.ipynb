{
 "cells": [
  {
   "cell_type": "markdown",
   "metadata": {},
   "source": [
    "# Midplane Section Analysis\n",
    "Code to analyze the result of `midplane_section.py`"
   ]
  },
  {
   "cell_type": "markdown",
   "metadata": {},
   "source": [
    "## Imports"
   ]
  },
  {
   "cell_type": "code",
   "execution_count": 1,
   "metadata": {},
   "outputs": [],
   "source": [
    "# %% Imports\n",
    "%load_ext autoreload\n",
    "%autoreload 2\n",
    "\n",
    "import numpy as np\n",
    "import scipy.integrate\n",
    "import scipy.interpolate\n",
    "\n",
    "## Visualization\n",
    "import matplotlib.pyplot as plt\n",
    "import matplotlib as mpl\n",
    "\n",
    "import pyvista as pv\n",
    "\n",
    "from tqdm import tqdm\n",
    "%matplotlib qt\n",
    "\n",
    "## Utility libraries\n",
    "from netCDF4 import Dataset\n",
    "import glob\n",
    "\n",
    "from c1lgkt.fields.equilibrium import Equilibrium\n",
    "from c1lgkt.fields.field_handlers import GaussHermiteFieldHandler, XgcZonalFieldHandler, GaussHermiteFunction\n",
    "from c1lgkt.fields.field_interpolators import compute_balloon_interpolation\n",
    "from c1lgkt.fields.geometry_handlers import XgcGeomHandler\n",
    "\n",
    "import c1lgkt.particles.particle_motion as particle_motion\n",
    "import c1lgkt.particles.particle_tools as particle_tools"
   ]
  },
  {
   "cell_type": "code",
   "execution_count": 2,
   "metadata": {},
   "outputs": [],
   "source": [
    "# %% Load files and perform setup\n",
    "\n",
    "eq = Equilibrium.from_eqdfile(R'D:\\Documents\\IFS\\hmode_jet\\D3D141451.eqd')\n",
    "\n",
    "xgcdata = Dataset(R'D:\\Documents\\Globus\\XGC1.nc')\n",
    "\n",
    "geom_files = {\n",
    "    'ele_filename': R'D:\\Documents\\IFS\\hmode_jet\\Seo.eqd.ele',\n",
    "    'fdmat_filename': R'D:\\Documents\\IFS\\hmode_jet\\fdmat.pkl',\n",
    "    'min_e_filename': R'D:\\Documents\\IFS\\hmode_jet\\min_E_mat.pkl'\n",
    "}\n",
    "geom = XgcGeomHandler(eq, xgcdata, **geom_files)\n",
    "\n",
    "uph = np.load('./outputs/phase_vel.npz')['u_lstsq']\n",
    "\n",
    "# Set up zonal interpolation function\n",
    "tind = 401\n",
    "zpot = xgcdata['pot00'][tind,:]\n",
    "zpot_psi = xgcdata['psi00'][:]\n",
    "interp_zpot = scipy.interpolate.CubicSpline(zpot_psi, zpot, extrapolate=True)\n",
    "zonalFields = XgcZonalFieldHandler(eq, xgcdata, 401)\n",
    "\n",
    "# Set up ballooning mode interpolator\n",
    "fit_results = np.load('./outputs/fit_results.npz', allow_pickle=True)\n",
    "params_g, params_gh = fit_results['params_g'], fit_results['params_gh']\n",
    "\n",
    "# Set up the interpolator\n",
    "mode = GaussHermiteFunction(params_g[:4], params_gh)\n",
    "interp_balloon = [(39, mode)]\n",
    "\n",
    "ballFields = GaussHermiteFieldHandler(geom, interp_zpot, interp_balloon)\n",
    "\n",
    "tind0 = 401 #424, 386\n",
    "\n",
    "omega_frame = -uph[tind0,196]*geom.q_surf[196]*1e-3\n",
    "rotating_frame = particle_motion.RotatingFrameInfo(0, omega_frame, tind0)\n",
    "t0 = rotating_frame.t0"
   ]
  },
  {
   "cell_type": "code",
   "execution_count": 3,
   "metadata": {},
   "outputs": [
    {
     "name": "stdout",
     "output_type": "stream",
     "text": [
      "num_saves: 369\n"
     ]
    }
   ],
   "source": [
    "# %% Load data and compute Poincare sections\n",
    "\n",
    "filelabel = 'midplane_deut_trapped_r50'\n",
    "output_dir = 'D:/Documents/IFS/hmode_jet/outputs/'\n",
    "\n",
    "paths = glob.glob(output_dir+'sections/{}/[0-9][0-9][0-9][0-9][0-9].npz'.format(filelabel))\n",
    "\n",
    "num_saves = len(paths)\n",
    "print('num_saves: {}'.format(num_saves))\n",
    "ncheckpoint = 800\n",
    "\n",
    "t = np.empty(num_saves*ncheckpoint)\n",
    "y = None\n",
    "dy = None\n",
    "\n",
    "# TODO: Refactor so we don't load the entire trajectory into memory to compute the punctures\n",
    "for kc in range(num_saves):\n",
    "    with np.load(output_dir + 'sections/{}/{:05d}.npz'.format(filelabel, kc)) as data:\n",
    "        t[kc*ncheckpoint:(kc+1)*ncheckpoint] = data['t']\n",
    "        if kc == 0:\n",
    "            y = np.empty((data['y'].shape[0], len(t)))\n",
    "            dy = np.empty((data['y'].shape[0], len(t)))\n",
    "            \n",
    "        y[:,kc*ncheckpoint:(kc+1)*ncheckpoint] = data['y']\n",
    "        dy[:,kc*ncheckpoint:(kc+1)*ncheckpoint] = data['dy']\n",
    "\n",
    "nump = y.shape[0]//5\n",
    "\n",
    "# Compute Poincare section\n",
    "ppunc, npunc = particle_tools.compute_midplane_punctures(t, y, geom)\n",
    "ppunc2, npunc2 = particle_tools.compute_toroidal_punctures(t, y, rotating_frame, period=(2*np.pi/39))\n"
   ]
  },
  {
   "cell_type": "markdown",
   "metadata": {},
   "source": [
    "## Analysis"
   ]
  },
  {
   "cell_type": "code",
   "execution_count": null,
   "metadata": {},
   "outputs": [],
   "source": [
    "# %% Plot trajectories in the (R,Z) plane atop the ballooning mode\n",
    "\n",
    "plt.figure()\n",
    "\n",
    "ax = plt.subplot(111)\n",
    "\n",
    "eq.plot_magnetic_geometry(ax)\n",
    "for k in [0]:\n",
    "    ax.plot(y[k + 0*nump,:], y[k + 2*nump,:], marker='.')\n",
    "\n",
    "rplot, zplot = np.linspace(2.15, 2.26, 256), np.linspace(-0.2, 0.2, 1024)\n",
    "rgrid, zgrid = np.meshgrid(rplot, zplot)\n",
    "varphigrid = np.zeros(rgrid.shape)\n",
    "\n",
    "rflat, zflat, varphiflat = rgrid.flatten(), zgrid.flatten(), varphigrid.flatten()\n",
    "\n",
    "psi_ev, ff_ev = eq.compute_psi_and_ff(rflat, zflat)\n",
    "\n",
    "phi = compute_balloon_interpolation(\n",
    "    0.0, rflat, zflat, varphiflat, psi_ev, eq, geom, [interp_balloon], gradient=False)\n",
    "\n",
    "phigrid = phi.reshape(rgrid.shape)\n",
    "\n",
    "plt.pcolormesh(rplot, zplot, phigrid, cmap='viridis')\n",
    "\n",
    "plt.xlabel('R')\n",
    "plt.ylabel('Z')"
   ]
  },
  {
   "cell_type": "code",
   "execution_count": null,
   "metadata": {},
   "outputs": [],
   "source": [
    "# %% Plot trajectories in phi, theta plane\n",
    "\n",
    "def centerize(z):\n",
    "    return np.mod(z+np.pi,2*np.pi)-np.pi\n",
    "\n",
    "plt.figure()\n",
    "\n",
    "k = 1\n",
    "\n",
    "theta = geom.compute_theta(y[k + 0*nump], y[k + 2*nump])\n",
    "psi = eq.interp_psi.ev(y[k + 0*nump], y[k + 2*nump])\n",
    "#plt.scatter(np.mod(y[k + 1*nump],2*np.pi), centerize(theta), c=psi, s=9*(72/100.0)**2)\n",
    "\n",
    "plt.scatter(psi / eq.psix, theta, s=4*(72/100.0)**2, lw=0, c=t)\n",
    "\n",
    "plt.xlabel('psi_n')\n",
    "plt.ylabel('theta')"
   ]
  },
  {
   "cell_type": "code",
   "execution_count": null,
   "metadata": {},
   "outputs": [],
   "source": [
    "# %% Plot trajectories vs. time\n",
    "\n",
    "k = 0\n",
    "\n",
    "plt.figure()\n",
    "plt.plot(t, dy[k + 3*nump], marker='.')\n",
    "plt.twinx()\n",
    "plt.plot(t, np.mod(y[k + 1*nump],2*np.pi/48), marker='.', c='tab:orange')"
   ]
  },
  {
   "cell_type": "code",
   "execution_count": null,
   "metadata": {},
   "outputs": [],
   "source": [
    "# %% Plot the outer midplane section\n",
    "\n",
    "fig, axs = plt.subplots(2,1,sharex='all',sharey='all')\n",
    "\n",
    "ravgs = np.empty(nump)\n",
    "\n",
    "for k in range(nump):\n",
    "    ravgs[k] = np.average(np.concatenate((ppunc[k][1][0,:], npunc[k][1][0,:])))\n",
    "\n",
    "    #cplot = 'tab:blue' if ravgs[k] > 2.2259 else 'tab:orange'\n",
    "    #cplot = 'tab:blue'\n",
    "\n",
    "    axs[0].scatter(np.mod(ppunc[k][1][1,:] - omega_frame * (ppunc[k][0] - t0),2*np.pi/3), ppunc[k][1][0,:], s=4*(72/100.0)**2, lw=0)\n",
    "    axs[1].scatter(np.mod(npunc[k][1][1,:] - omega_frame * (npunc[k][0] - t0),2*np.pi/3), npunc[k][1][0,:], s=4*(72/100.0)**2, lw=0)\n",
    "\n",
    "    #axs[0].plot(ppunc[k][1][1,:] - omega_frame * (ppunc[k][0] - t0), ppunc[k][1][0,:], marker='.')\n",
    "    #axs[1].plot(npunc[k][1][1,:] - omega_frame * (npunc[k][0] - t0), npunc[k][1][0,:], marker='.')\n",
    "\n",
    "#axs[0].axhline(2.2259, c='k')\n",
    "#axs[1].axhline(2.2259, c='k')\n",
    "\n",
    "#plt.suptitle('Trapped electron Poincare section')\n",
    "\n",
    "axs[1].set_xlabel(R'Toroidal angle $\\varphi$')\n",
    "#axs[0].set_ylabel(R'Major radius $R$')\n",
    "axs[0].set_ylabel(R'Major radius $R$')\n",
    "\n",
    "plt.tight_layout()"
   ]
  },
  {
   "cell_type": "code",
   "execution_count": 4,
   "metadata": {},
   "outputs": [],
   "source": [
    "\n",
    "# %% Plot the poloidal cross-section section in (R,Z)\n",
    "\n",
    "fig, axs = plt.subplots(1,2,sharex='all',sharey='all')\n",
    "#fig, axs = plt.subplots(1,2)\n",
    "\n",
    "ravgs = np.empty(nump)\n",
    "\n",
    "eq.plot_magnetic_geometry(axs[0])\n",
    "eq.plot_magnetic_geometry(axs[1])\n",
    "\n",
    "#axs[0].pcolormesh(rplot, zplot, phigrid, cmap='viridis')\n",
    "\n",
    "for k in range(0,nump):\n",
    "    #ravgs[k] = np.average(np.concatenate((ppunc[k][1][0,:], npunc[k][1][0,:])))\n",
    "\n",
    "    #cplot = 'tab:blue' if ravgs[k] > 2.2259 else 'tab:orange'\n",
    "    #cplot = 'tab:blue'\n",
    "\n",
    "    axs[0].scatter(ppunc2[k][1][0,:], ppunc2[k][1][2,:], s=1*(72/100.0)**2, lw=0)\n",
    "    axs[1].scatter(npunc2[k][1][0,:], npunc2[k][1][2,:], s=1*(72/100.0)**2, lw=0)\n",
    "\n",
    "axs[0].set_xlabel(R'$R$ [m]')\n",
    "axs[1].set_xlabel(R'$R$ [m]')\n",
    "axs[0].set_ylabel(R'$Z$ [m]')\n",
    "axs[1].set_ylabel(R'$Z$ [m]')\n",
    "\n",
    "axs[0].set_title(R'$v_{\\parallel} \\hat{\\mathbf{b}}\\cdot\\hat{\\boldsymbol{\\varphi}}$ > 0')\n",
    "axs[1].set_title(R'$v_{\\parallel} \\hat{\\mathbf{b}}\\cdot\\hat{\\boldsymbol{\\varphi}}$ < 0')\n",
    "\n",
    "plt.tight_layout()"
   ]
  },
  {
   "cell_type": "code",
   "execution_count": 6,
   "metadata": {},
   "outputs": [
    {
     "name": "stdout",
     "output_type": "stream",
     "text": [
      "(0.07214376658924238, 0.08324086979945851)\n"
     ]
    }
   ],
   "source": [
    "# %% Plot poloidal cross-section in (Z,v_||)\n",
    "\n",
    "plt.figure()\n",
    "\n",
    "fig, axs = plt.subplots(2,1)\n",
    "\n",
    "rotation_number = np.empty(nump)\n",
    "\n",
    "for k in range(0,nump):\n",
    "    # Sort the combined punctures by their puncture time\n",
    "    tpunc = np.concatenate((ppunc2[k][0], npunc2[k][0]))\n",
    "    tsort = np.argsort(tpunc)\n",
    "    tpunc = tpunc[tsort]\n",
    "\n",
    "    # Unpack and collect together the positive and negative punctures\n",
    "    r = np.concatenate((ppunc2[k][1][0,:], npunc2[k][1][0,:]))[tsort]\n",
    "    z = np.concatenate((ppunc2[k][1][2,:], npunc2[k][1][2,:]))[tsort]\n",
    "    vll = np.concatenate((ppunc2[k][1][3,:], npunc2[k][1][3,:]))[tsort]\n",
    "\n",
    "    # Compute theta\n",
    "    psi = eq.interp_psi.ev(r, z)\n",
    "    gtheta = np.arctan2(z-eq.zaxis, r-eq.raxis)\n",
    "    dtheta = geom.interp_gdtheta_grid(psi, gtheta)\n",
    "    theta = gtheta + dtheta\n",
    "\n",
    "    ## Compute rotation numbers using weighted birkhoff average\n",
    "\n",
    "    # Compute winding theta around the origin in (theta, vll) space\n",
    "    winding = np.unwrap(np.arctan2(theta, vll))\n",
    "    \n",
    "    # discrete time s\n",
    "    s = np.arange(len(theta)-1) / (len(theta)-1)\n",
    "    # weight function\n",
    "    w = np.zeros(len(theta)-1)\n",
    "    w[1:] = np.exp(-1.0 / (s[1:] * (1-s[1:])))\n",
    "    # WBA formula for rotation number\n",
    "    rotation_number[k] = np.sum(w * np.diff(winding)) / np.sum(w)\n",
    "\n",
    "    # Compute average area enclosed by the trajectory\n",
    "    area = np.sum((np.diff(theta) * (vll[:-1] + vll[1:]) / 2.0) * w) / rotation_number[k]\n",
    "\n",
    "    # Plot, colored by rotation number\n",
    "    bounds = (0.07214376658924238, 0.08324086979945851)\n",
    "    norm = mpl.colors.Normalize(vmin=bounds[0], vmax=bounds[1])\n",
    "    color = mpl.cm.plasma(norm(rotation_number[k]))\n",
    "\n",
    "    axs[0].scatter(theta, vll, s=4*(72/100.0)**2, lw=0, color=color)\n",
    "    axs[1].scatter(area, rotation_number[k], color=color)\n",
    "\n",
    "print((np.min(rotation_number), np.max(rotation_number)))\n"
   ]
  },
  {
   "cell_type": "code",
   "execution_count": null,
   "metadata": {},
   "outputs": [],
   "source": [
    "\n",
    "# %% Poloidal cross-section flux coordinates (psi, theta)\n",
    "\n",
    "\n",
    "fig, axs = plt.subplots(2,1,sharex='all')\n",
    "\n",
    "ravgs = np.empty(nump)\n",
    "\n",
    "maxrot = -np.inf\n",
    "minrot = np.inf\n",
    "\n",
    "for k in range(nump):\n",
    "    #ravgs[k] = np.average(np.concatenate((ppunc[k][1][0,:], npunc[k][1][0,:])))\n",
    "\n",
    "    \n",
    "    #cplot = 'tab:blue'\n",
    "\n",
    "    thetap = geom.compute_theta(ppunc2[k][1][0,:], ppunc2[k][1][2,:])\n",
    "    psip = eq.interp_psi.ev(ppunc2[k][1][0,:], ppunc2[k][1][2,:])\n",
    "    thetan = geom.compute_theta(npunc2[k][1][0,:], npunc2[k][1][2,:])\n",
    "    psin = eq.interp_psi.ev(npunc2[k][1][0,:], npunc2[k][1][2,:])\n",
    "\n",
    "    #axs[0].scatter(thetap, ppunc2[k][1][3,:], s=1*(72/100.0)**2, lw=0)\n",
    "    #axs[1].scatter(thetan, npunc2[k][1][3,:], s=1*(72/100.0)**2, lw=0)\n",
    "\n",
    "    #cplotp = 'tab:blue' if np.average(psip) > geom.psi_surf[200] else 'tab:orange'\n",
    "    #cplotn = 'tab:blue' if np.average(psin) > geom.psi_surf[200] else 'tab:orange'\n",
    "\n",
    "    # eq.interp_router(psip/eq.psix)\n",
    "\n",
    "    if k%2 == 1:\n",
    "        axs[0].scatter(thetap, psip, s=4*(72/100.0)**2, lw=0)\n",
    "    else:\n",
    "        axs[1].scatter(thetan, psin, s=4*(72/100.0)**2, lw=0)\n",
    "\n",
    "axs[1].set_xlabel(R'Poloidal angle $\\theta$')\n",
    "axs[0].set_ylabel(R'Mapped outboard midplane $R$')\n",
    "\n",
    "plt.suptitle(R'Passing ion Poincare section')"
   ]
  },
  {
   "cell_type": "code",
   "execution_count": null,
   "metadata": {},
   "outputs": [
    {
     "data": {
      "text/plain": [
       "[<matplotlib.lines.Line2D at 0x217ca94bef0>]"
      ]
     },
     "execution_count": 28,
     "metadata": {},
     "output_type": "execute_result"
    }
   ],
   "source": []
  },
  {
   "cell_type": "code",
   "execution_count": 27,
   "metadata": {},
   "outputs": [],
   "source": [
    "plt.close('all')"
   ]
  },
  {
   "cell_type": "code",
   "execution_count": null,
   "metadata": {},
   "outputs": [],
   "source": [
    "t"
   ]
  },
  {
   "cell_type": "code",
   "execution_count": null,
   "metadata": {},
   "outputs": [],
   "source": [
    "xgcdata['t'][:]*1e3"
   ]
  },
  {
   "cell_type": "code",
   "execution_count": null,
   "metadata": {},
   "outputs": [],
   "source": []
  }
 ],
 "metadata": {
  "kernelspec": {
   "display_name": "research-forge",
   "language": "python",
   "name": "python3"
  },
  "language_info": {
   "codemirror_mode": {
    "name": "ipython",
    "version": 3
   },
   "file_extension": ".py",
   "mimetype": "text/x-python",
   "name": "python",
   "nbconvert_exporter": "python",
   "pygments_lexer": "ipython3",
   "version": "3.12.6"
  }
 },
 "nbformat": 4,
 "nbformat_minor": 2
}
