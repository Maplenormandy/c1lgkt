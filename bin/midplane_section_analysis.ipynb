{
 "cells": [
  {
   "cell_type": "markdown",
   "metadata": {},
   "source": [
    "# Midplane Section Analysis\n",
    "Code to analyze the result of `midplane_section.py`"
   ]
  },
  {
   "cell_type": "markdown",
   "metadata": {},
   "source": [
    "## Imports"
   ]
  },
  {
   "cell_type": "code",
   "execution_count": 68,
   "metadata": {},
   "outputs": [
    {
     "name": "stdout",
     "output_type": "stream",
     "text": [
      "The autoreload extension is already loaded. To reload it, use:\n",
      "  %reload_ext autoreload\n"
     ]
    }
   ],
   "source": [
    "# %% Imports\n",
    "%load_ext autoreload\n",
    "%autoreload 2\n",
    "\n",
    "import numpy as np\n",
    "import scipy.integrate\n",
    "import scipy.interpolate\n",
    "\n",
    "## Visualization\n",
    "import matplotlib.pyplot as plt\n",
    "import matplotlib as mpl\n",
    "\n",
    "import pyvista as pv\n",
    "\n",
    "from tqdm import tqdm\n",
    "%matplotlib qt\n",
    "\n",
    "## Utility libraries\n",
    "from netCDF4 import Dataset\n",
    "import glob\n",
    "\n",
    "from c1lgkt.fields.equilibrium import Equilibrium\n",
    "from c1lgkt.fields.field_handlers import GaussHermiteFieldHandler, XgcZonalFieldHandler, GaussHermiteFunction\n",
    "from c1lgkt.fields.field_interpolators import compute_balloon_interpolation\n",
    "from c1lgkt.fields.geometry_handlers import XgcGeomHandler\n",
    "\n",
    "import c1lgkt.particles.particle_motion as particle_motion\n",
    "import c1lgkt.particles.particle_tools as particle_tools"
   ]
  },
  {
   "cell_type": "code",
   "execution_count": null,
   "metadata": {},
   "outputs": [],
   "source": [
    "# %% Load files and perform setup\n",
    "\n",
    "eq = Equilibrium.from_eqdfile(R'D:\\Documents\\IFS\\hmode_jet\\D3D141451.eqd')\n",
    "\n",
    "xgcdata = Dataset(R'D:\\Documents\\Globus\\XGC1.nc')\n",
    "\n",
    "geom_files = {\n",
    "    'ele_filename': R'D:\\Documents\\IFS\\hmode_jet\\Seo.eqd.ele',\n",
    "    'fdmat_filename': R'D:\\Documents\\IFS\\hmode_jet\\fdmat.pkl',\n",
    "    'min_e_filename': R'D:\\Documents\\IFS\\hmode_jet\\min_E_mat.pkl'\n",
    "}\n",
    "geom = XgcGeomHandler(eq, xgcdata, **geom_files)\n",
    "\n",
    "uph = np.load('./outputs/phase_vel.npz')['u_lstsq']\n",
    "\n",
    "# Set up zonal interpolation function\n",
    "tind = 401\n",
    "zpot = xgcdata['pot00'][tind,:]\n",
    "zpot_psi = xgcdata['psi00'][:]\n",
    "interp_zpot = scipy.interpolate.CubicSpline(zpot_psi, zpot, extrapolate=True)\n",
    "zonalFields = XgcZonalFieldHandler(eq, xgcdata, 401)\n",
    "\n",
    "# Set up ballooning mode interpolator\n",
    "fit_results = np.load('./outputs/fit_results.npz', allow_pickle=True)\n",
    "params_g, params_gh = fit_results['params_g'], fit_results['params_gh']\n",
    "\n",
    "# Set up the interpolator\n",
    "mode = GaussHermiteFunction(params_g[:4], params_gh)\n",
    "interp_balloon = [(39, mode)]\n",
    "\n",
    "ballFields = GaussHermiteFieldHandler(geom, interp_zpot, interp_balloon)\n",
    "\n",
    "tind0 = 401 #424, 386\n",
    "\n",
    "omega_frame = -uph[tind0,196]*geom.q_surf[196]*1e-3\n",
    "rotating_frame = particle_motion.RotatingFrameInfo(0, omega_frame, tind0)\n",
    "t0 = rotating_frame.t0"
   ]
  },
  {
   "cell_type": "code",
   "execution_count": null,
   "metadata": {},
   "outputs": [
    {
     "name": "stdout",
     "output_type": "stream",
     "text": [
      "num_saves: 35\n"
     ]
    }
   ],
   "source": [
    "# %% Load data and compute Poincare sections\n",
    "\n",
    "filelabel = 'midplane_deut_test_r50'\n",
    "output_dir = 'D:/Documents/IFS/hmode_jet/outputs/'\n",
    "\n",
    "paths = glob.glob(output_dir+'sections/{}_[0-9][0-9][0-9][0-9][0-9].npz'.format(filelabel))\n",
    "\n",
    "num_saves = len(paths)\n",
    "print('num_saves: {}'.format(num_saves))\n",
    "ncheckpoint = 800\n",
    "\n",
    "t = np.empty(num_saves*ncheckpoint)\n",
    "y = None\n",
    "dy = None\n",
    "\n",
    "\n",
    "for kc in range(num_saves):\n",
    "    with np.load(output_dir + 'sections/{}_{:05d}.npz'.format(filelabel, kc)) as data:\n",
    "        t[kc*ncheckpoint:(kc+1)*ncheckpoint] = data['t']\n",
    "        if kc == 0:\n",
    "            y = np.empty((data['y'].shape[0], len(t)))\n",
    "            dy = np.empty((data['y'].shape[0], len(t)))\n",
    "            \n",
    "        y[:,kc*ncheckpoint:(kc+1)*ncheckpoint] = data['y']\n",
    "        dy[:,kc*ncheckpoint:(kc+1)*ncheckpoint] = data['dy']\n",
    "\n",
    "nump = y.shape[0]//5\n",
    "\n",
    "# Compute Poincare section\n",
    "ppunc, npunc = particle_tools.compute_midplane_punctures(t, y, geom)\n",
    "ppunc2, npunc2 = particle_tools.compute_toroidal_punctures(t, y, rotating_frame, period=(2*np.pi/39))\n"
   ]
  },
  {
   "cell_type": "markdown",
   "metadata": {},
   "source": [
    "## Analysis"
   ]
  },
  {
   "cell_type": "code",
   "execution_count": 92,
   "metadata": {},
   "outputs": [
    {
     "data": {
      "text/plain": [
       "Text(0, 0.5, 'Z')"
      ]
     },
     "execution_count": 92,
     "metadata": {},
     "output_type": "execute_result"
    }
   ],
   "source": [
    "# %% Plot trajectories in the (R,Z) plane atop the ballooning mode\n",
    "\n",
    "plt.figure()\n",
    "\n",
    "ax = plt.subplot(111)\n",
    "\n",
    "eq.plot_magnetic_geometry(ax)\n",
    "for k in [0]:\n",
    "    ax.plot(y[k + 0*nump,:], y[k + 2*nump,:], marker='.')\n",
    "\n",
    "rplot, zplot = np.linspace(2.15, 2.26, 256), np.linspace(-0.2, 0.2, 1024)\n",
    "rgrid, zgrid = np.meshgrid(rplot, zplot)\n",
    "varphigrid = np.zeros(rgrid.shape)\n",
    "\n",
    "rflat, zflat, varphiflat = rgrid.flatten(), zgrid.flatten(), varphigrid.flatten()\n",
    "\n",
    "psi_ev, ff_ev = eq.compute_psi_and_ff(rflat, zflat)\n",
    "\n",
    "phi = compute_balloon_interpolation(\n",
    "    0.0, rflat, zflat, varphiflat, psi_ev, eq, geom, [interp_balloon], gradient=False)\n",
    "\n",
    "phigrid = phi.reshape(rgrid.shape)\n",
    "\n",
    "plt.pcolormesh(rplot, zplot, phigrid, cmap='viridis')\n",
    "\n",
    "plt.xlabel('R')\n",
    "plt.ylabel('Z')"
   ]
  },
  {
   "cell_type": "code",
   "execution_count": 58,
   "metadata": {},
   "outputs": [
    {
     "data": {
      "text/plain": [
       "Text(0, 0.5, 'theta')"
      ]
     },
     "execution_count": 58,
     "metadata": {},
     "output_type": "execute_result"
    }
   ],
   "source": [
    "# %% Plot trajectories in phi, theta plane\n",
    "\n",
    "def centerize(z):\n",
    "    return np.mod(z+np.pi,2*np.pi)-np.pi\n",
    "\n",
    "plt.figure()\n",
    "\n",
    "k = 1\n",
    "\n",
    "theta = geom.compute_theta(y[k + 0*nump], y[k + 2*nump])\n",
    "psi = eq.interp_psi.ev(y[k + 0*nump], y[k + 2*nump])\n",
    "#plt.scatter(np.mod(y[k + 1*nump],2*np.pi), centerize(theta), c=psi, s=9*(72/100.0)**2)\n",
    "\n",
    "plt.scatter(psi / eq.psix, theta, s=4*(72/100.0)**2, lw=0, c=t)\n",
    "\n",
    "plt.xlabel('psi_n')\n",
    "plt.ylabel('theta')"
   ]
  },
  {
   "cell_type": "code",
   "execution_count": 7,
   "metadata": {},
   "outputs": [
    {
     "data": {
      "text/plain": [
       "[<matplotlib.lines.Line2D at 0x26e8373a000>]"
      ]
     },
     "execution_count": 7,
     "metadata": {},
     "output_type": "execute_result"
    },
    {
     "data": {
      "image/png": "[encoded data removed]",
      "text/plain": [
       "<Figure size 640x480 with 2 Axes>"
      ]
     },
     "metadata": {},
     "output_type": "display_data"
    }
   ],
   "source": [
    "# %% Plot trajectories vs. time\n",
    "\n",
    "k = 0\n",
    "\n",
    "plt.figure()\n",
    "plt.plot(t, dy[k + 3*nump], marker='.')\n",
    "plt.twinx()\n",
    "plt.plot(t, np.mod(y[k + 1*nump],2*np.pi/48), marker='.', c='tab:orange')"
   ]
  },
  {
   "cell_type": "code",
   "execution_count": 94,
   "metadata": {},
   "outputs": [],
   "source": [
    "# %% Plot the outer midplane section\n",
    "\n",
    "fig, axs = plt.subplots(2,1,sharex='all',sharey='all')\n",
    "\n",
    "ravgs = np.empty(nump)\n",
    "\n",
    "for k in range(nump):\n",
    "    ravgs[k] = np.average(np.concatenate((ppunc[k][1][0,:], npunc[k][1][0,:])))\n",
    "\n",
    "    #cplot = 'tab:blue' if ravgs[k] > 2.2259 else 'tab:orange'\n",
    "    #cplot = 'tab:blue'\n",
    "\n",
    "    axs[0].scatter(np.mod(ppunc[k][1][1,:] - omega_frame * (ppunc[k][0] - t0),2*np.pi/3), ppunc[k][1][0,:], s=9*(72/100.0)**2, lw=0)\n",
    "    axs[1].scatter(np.mod(npunc[k][1][1,:] - omega_frame * (npunc[k][0] - t0),2*np.pi/3), npunc[k][1][0,:], s=9*(72/100.0)**2, lw=0)\n",
    "\n",
    "    #axs[0].plot(ppunc[k][1][1,:] - omega_frame * (ppunc[k][0] - t0), ppunc[k][1][0,:], marker='.')\n",
    "    #axs[1].plot(npunc[k][1][1,:] - omega_frame * (npunc[k][0] - t0), npunc[k][1][0,:], marker='.')\n",
    "\n",
    "#axs[0].axhline(2.2259, c='k')\n",
    "#axs[1].axhline(2.2259, c='k')\n",
    "\n",
    "#plt.suptitle('Trapped electron Poincare section')\n",
    "\n",
    "axs[1].set_xlabel(R'Toroidal angle $\\varphi$')\n",
    "#axs[0].set_ylabel(R'Major radius $R$')\n",
    "axs[0].set_ylabel(R'Major radius $R$')\n",
    "\n",
    "plt.tight_layout()"
   ]
  },
  {
   "cell_type": "code",
   "execution_count": 95,
   "metadata": {},
   "outputs": [],
   "source": [
    "\n",
    "# %% Plot the poloidal cross-section section\n",
    "\n",
    "fig, axs = plt.subplots(1,2,sharex='all',sharey='all')\n",
    "\n",
    "ravgs = np.empty(nump)\n",
    "\n",
    "eq.plot_magnetic_geometry(axs[0])\n",
    "eq.plot_magnetic_geometry(axs[1])\n",
    "\n",
    "plt.pcolormesh(rplot, zplot, phigrid, cmap='viridis')\n",
    "\n",
    "for k in range(nump):\n",
    "    #ravgs[k] = np.average(np.concatenate((ppunc[k][1][0,:], npunc[k][1][0,:])))\n",
    "\n",
    "    #cplot = 'tab:blue' if ravgs[k] > 2.2259 else 'tab:orange'\n",
    "    #cplot = 'tab:blue'\n",
    "\n",
    "    axs[0].scatter(ppunc2[k][1][0,:], ppunc2[k][1][2,:], s=4*(72/100.0)**2, lw=0)\n",
    "    axs[1].scatter(npunc2[k][1][0,:], npunc2[k][1][2,:], s=4*(72/100.0)**2, lw=0)\n",
    "\n",
    "\n"
   ]
  },
  {
   "cell_type": "code",
   "execution_count": 96,
   "metadata": {},
   "outputs": [
    {
     "data": {
      "text/plain": [
       "Text(0.5, 0.98, 'Passing ion Poincare section')"
      ]
     },
     "execution_count": 96,
     "metadata": {},
     "output_type": "execute_result"
    }
   ],
   "source": [
    "\n",
    "# %% Poloidal cross-section v2\n",
    "\n",
    "\n",
    "fig, axs = plt.subplots(2,1,sharex='all')\n",
    "\n",
    "ravgs = np.empty(nump)\n",
    "\n",
    "maxrot = -np.inf\n",
    "minrot = np.inf\n",
    "\n",
    "for k in range(nump):\n",
    "    #ravgs[k] = np.average(np.concatenate((ppunc[k][1][0,:], npunc[k][1][0,:])))\n",
    "\n",
    "    \n",
    "    #cplot = 'tab:blue'\n",
    "\n",
    "    thetap = geom.compute_theta(ppunc2[k][1][0,:], ppunc2[k][1][2,:])\n",
    "    psip = eq.interp_psi.ev(ppunc2[k][1][0,:], ppunc2[k][1][2,:])\n",
    "    thetan = geom.compute_theta(npunc2[k][1][0,:], npunc2[k][1][2,:])\n",
    "    psin = eq.interp_psi.ev(npunc2[k][1][0,:], npunc2[k][1][2,:])\n",
    "\n",
    "    #axs[0].scatter(thetap, ppunc2[k][1][3,:], s=1*(72/100.0)**2, lw=0)\n",
    "    #axs[1].scatter(thetan, npunc2[k][1][3,:], s=1*(72/100.0)**2, lw=0)\n",
    "\n",
    "    #cplotp = 'tab:blue' if np.average(psip) > geom.psi_surf[200] else 'tab:orange'\n",
    "    #cplotn = 'tab:blue' if np.average(psin) > geom.psi_surf[200] else 'tab:orange'\n",
    "\n",
    "    # eq.interp_router(psip/eq.psix)\n",
    "\n",
    "    if k%2 == 1:\n",
    "        axs[0].scatter(thetap, psip, s=4*(72/100.0)**2, lw=0)\n",
    "    else:\n",
    "        axs[1].scatter(thetan, psin, s=4*(72/100.0)**2, lw=0)\n",
    "\n",
    "axs[1].set_xlabel(R'Poloidal angle $\\theta$')\n",
    "axs[0].set_ylabel(R'Mapped outboard midplane $R$')\n",
    "\n",
    "plt.suptitle(R'Passing ion Poincare section')"
   ]
  },
  {
   "cell_type": "code",
   "execution_count": 42,
   "metadata": {},
   "outputs": [
    {
     "data": {
      "text/plain": [
       "array([0.18188706, 0.17108981, 0.16852668, 0.16297331, 0.1640484 ,\n",
       "       0.15815972, 0.16384656, 0.17351434, 0.18004782, 0.18259915,\n",
       "       0.18545698, 0.18202316, 0.18003062, 0.17330836, 0.16613062,\n",
       "       0.15882731, 0.16314154, 0.17270072, 0.17980953, 0.1812788 ,\n",
       "       0.18798942, 0.19280634, 0.19783048, 0.19497158, 0.18910652,\n",
       "       0.18460915, 0.18047828, 0.17534475, 0.1829272 , 0.18870703,\n",
       "       0.19546652, 0.1997632 , 0.20127618, 0.20223439, 0.20101312,\n",
       "       0.19908622, 0.19866166, 0.20003166, 0.19928455, 0.19485718,\n",
       "       0.19850974, 0.19861613, 0.19523173, 0.19446546, 0.19721303,\n",
       "       0.20011403, 0.20141217, 0.19938673, 0.19874402, 0.2001918 ,\n",
       "       0.19978974, 0.19525821, 0.19084035, 0.19657404, 0.19281112,\n",
       "       0.18669894, 0.18920436, 0.18384889, 0.17344743, 0.16382877,\n",
       "       0.15838583, 0.16147427, 0.15771097, 0.16343431, 0.17117778,\n",
       "       0.16266494, 0.16617648, 0.17647703, 0.18406891, 0.1891061 ,\n",
       "       0.18713437, 0.19215254, 0.18359155, 0.17469789, 0.17134573,\n",
       "       0.1812448 , 0.17085064, 0.16673701, 0.16401761, 0.1680597 ,\n",
       "       0.16270636, 0.17004083, 0.1792513 , 0.18365449, 0.18195562,\n",
       "       0.18955754, 0.18094144, 0.17299041, 0.16309328, 0.15812407,\n",
       "       0.16103501, 0.16387302, 0.15918309, 0.16277732, 0.17183007,\n",
       "       0.1671787 , 0.16796164, 0.17535115, 0.17658405, 0.17520039,\n",
       "       0.16708497, 0.15936938, 0.15805912, 0.15786821, 0.16016695,\n",
       "       0.15880519, 0.16634502, 0.17210606])"
      ]
     },
     "execution_count": 42,
     "metadata": {},
     "output_type": "execute_result"
    }
   ],
   "source": [
    "np.diff(ppunc[0][0])"
   ]
  },
  {
   "cell_type": "code",
   "execution_count": 28,
   "metadata": {},
   "outputs": [
    {
     "data": {
      "text/plain": [
       "array([0.00000000e+00, 2.46962500e-04, 4.93925000e-04, ...,\n",
       "       1.95586891e+01, 1.95589361e+01, 1.95591830e+01])"
      ]
     },
     "execution_count": 28,
     "metadata": {},
     "output_type": "execute_result"
    }
   ],
   "source": [
    "t"
   ]
  },
  {
   "cell_type": "code",
   "execution_count": 33,
   "metadata": {},
   "outputs": [
    {
     "data": {
      "text/plain": [
       "masked_array(data=[0.0039514, 0.0079028, 0.0118542, 0.0158056, 0.019757 ,\n",
       "                   0.0237084, 0.0276598, 0.0316112, 0.0355626, 0.039514 ,\n",
       "                   0.0434654, 0.0474168, 0.0513682, 0.0553196, 0.059271 ,\n",
       "                   0.0632224, 0.0671738, 0.0711252, 0.0750766, 0.079028 ,\n",
       "                   0.0829794, 0.0869308, 0.0908822, 0.0948336, 0.098785 ,\n",
       "                   0.1027364, 0.1066878, 0.1106392, 0.1145906, 0.118542 ,\n",
       "                   0.1224934, 0.1264448, 0.1303962, 0.1343476, 0.138299 ,\n",
       "                   0.1422504, 0.1462018, 0.1501532, 0.1541046, 0.158056 ,\n",
       "                   0.1620074, 0.1659588, 0.1699102, 0.1738616, 0.177813 ,\n",
       "                   0.1817644, 0.1857158, 0.1896672, 0.1936186, 0.19757  ,\n",
       "                   0.2015214, 0.2054728, 0.2094242, 0.2133756, 0.217327 ,\n",
       "                   0.2212784, 0.2252298, 0.2291812, 0.2331326, 0.237084 ,\n",
       "                   0.2410354, 0.2449868, 0.2489382, 0.2528896, 0.256841 ,\n",
       "                   0.2607924, 0.2647438, 0.2686952, 0.2726466, 0.276598 ,\n",
       "                   0.2805494, 0.2845008, 0.2884522, 0.2924036, 0.296355 ,\n",
       "                   0.3003064, 0.3042578, 0.3082092, 0.3121606, 0.316112 ,\n",
       "                   0.3200634, 0.3240148, 0.3279662, 0.3319176, 0.335869 ,\n",
       "                   0.3398204, 0.3437718, 0.3477232, 0.3516746, 0.355626 ,\n",
       "                   0.3595774, 0.3635288, 0.3674802, 0.3714316, 0.375383 ,\n",
       "                   0.3793344, 0.3832858, 0.3872372, 0.3911886, 0.39514  ,\n",
       "                   0.3990914, 0.4030428, 0.4069942, 0.4109456, 0.414897 ,\n",
       "                   0.4188484, 0.4227998, 0.4267512, 0.4307026, 0.434654 ,\n",
       "                   0.4386054, 0.4425568, 0.4465082, 0.4504596, 0.454411 ,\n",
       "                   0.4583624, 0.4623138, 0.4662652, 0.4702166, 0.474168 ,\n",
       "                   0.4781194, 0.4820708, 0.4860222, 0.4899736, 0.493925 ,\n",
       "                   0.4978764, 0.5018278, 0.5057792, 0.5097306, 0.513682 ,\n",
       "                   0.5176334, 0.5215848, 0.5255362, 0.5294876, 0.533439 ,\n",
       "                   0.5373904, 0.5413418, 0.5452932, 0.5492446, 0.553196 ,\n",
       "                   0.5571474, 0.5610988, 0.5650502, 0.5690016, 0.572953 ,\n",
       "                   0.5769044, 0.5808558, 0.5848072, 0.5887586, 0.59271  ,\n",
       "                   0.5966614, 0.6006128, 0.6045642, 0.6085156, 0.612467 ,\n",
       "                   0.6164184, 0.6203698, 0.6243212, 0.6282726, 0.632224 ,\n",
       "                   0.6361754, 0.6401268, 0.6440782, 0.6480296, 0.651981 ,\n",
       "                   0.6559324, 0.6598838, 0.6638352, 0.6677866, 0.671738 ,\n",
       "                   0.6756894, 0.6796408, 0.6835922, 0.6875436, 0.691495 ,\n",
       "                   0.6954464, 0.6993978, 0.7033492, 0.7073006, 0.711252 ,\n",
       "                   0.7152034, 0.7191548, 0.7231062, 0.7270576, 0.731009 ,\n",
       "                   0.7349604, 0.7389118, 0.7428632, 0.7468146, 0.750766 ,\n",
       "                   0.7547174, 0.7586688, 0.7626202, 0.7665716, 0.770523 ,\n",
       "                   0.7744744, 0.7784258, 0.7823772, 0.7863286, 0.79028  ,\n",
       "                   0.7942314, 0.7981828, 0.8021342, 0.8060856, 0.810037 ,\n",
       "                   0.8139884, 0.8179398, 0.8218912, 0.8258426, 0.829794 ,\n",
       "                   0.8337454, 0.8376968, 0.8416482, 0.8455996, 0.849551 ,\n",
       "                   0.8535024, 0.8574538, 0.8614052, 0.8653566, 0.869308 ,\n",
       "                   0.8732594, 0.8772108, 0.8811622, 0.8851136, 0.889065 ,\n",
       "                   0.8930164, 0.8969678, 0.9009192, 0.9048706, 0.908822 ,\n",
       "                   0.9127734, 0.9167248, 0.9206762, 0.9246276, 0.928579 ,\n",
       "                   0.9325304, 0.9364818, 0.9404332, 0.9443846, 0.948336 ,\n",
       "                   0.9522874, 0.9562388, 0.9601902, 0.9641416, 0.968093 ,\n",
       "                   0.9720444, 0.9759958, 0.9799472, 0.9838986, 0.98785  ,\n",
       "                   0.9918014, 0.9957528, 0.9997042, 1.0036556, 1.007607 ,\n",
       "                   1.0115584, 1.0155098, 1.0194612, 1.0234126, 1.027364 ,\n",
       "                   1.0313154, 1.0352668, 1.0392182, 1.0431696, 1.047121 ,\n",
       "                   1.0510724, 1.0550238, 1.0589752, 1.0629266, 1.066878 ,\n",
       "                   1.0708294, 1.0747808, 1.0787322, 1.0826836, 1.086635 ,\n",
       "                   1.0905864, 1.0945378, 1.0984892, 1.1024406, 1.106392 ,\n",
       "                   1.1103434, 1.1142948, 1.1182462, 1.1221976, 1.126149 ,\n",
       "                   1.1301004, 1.1340518, 1.1380032, 1.1419546, 1.145906 ,\n",
       "                   1.1498574, 1.1538088, 1.1577602, 1.1617116, 1.165663 ,\n",
       "                   1.1696144, 1.1735658, 1.1775172, 1.1814686, 1.18542  ,\n",
       "                   1.1893714, 1.1933228, 1.1972742, 1.2012256, 1.205177 ,\n",
       "                   1.2091284, 1.2130798, 1.2170312, 1.2209826, 1.224934 ,\n",
       "                   1.2288854, 1.2328368, 1.2367882, 1.2407396, 1.244691 ,\n",
       "                   1.2486424, 1.2525938, 1.2565452, 1.2604966, 1.264448 ,\n",
       "                   1.2683994, 1.2723508, 1.2763022, 1.2802536, 1.284205 ,\n",
       "                   1.2881564, 1.2921078, 1.2960592, 1.3000106, 1.303962 ,\n",
       "                   1.3079134, 1.3118648, 1.3158162, 1.3197676, 1.323719 ,\n",
       "                   1.3276704, 1.3316218, 1.3355732, 1.3395246, 1.343476 ,\n",
       "                   1.3474274, 1.3513788, 1.3553302, 1.3592816, 1.363233 ,\n",
       "                   1.3671844, 1.3711358, 1.3750872, 1.3790386, 1.38299  ,\n",
       "                   1.3869414, 1.3908928, 1.3948442, 1.3987956, 1.402747 ,\n",
       "                   1.4066984, 1.4106498, 1.4146012, 1.4185526, 1.422504 ,\n",
       "                   1.4264554, 1.4304068, 1.4343582, 1.4383096, 1.442261 ,\n",
       "                   1.4462124, 1.4501638, 1.4541152, 1.4580666, 1.462018 ,\n",
       "                   1.4659694, 1.4699208, 1.4738722, 1.4778236, 1.481775 ,\n",
       "                   1.4857264, 1.4896778, 1.4936292, 1.4975806, 1.501532 ,\n",
       "                   1.5054834, 1.5094348, 1.5133862, 1.5173376, 1.521289 ,\n",
       "                   1.5252404, 1.5291918, 1.5331432, 1.5370946, 1.541046 ,\n",
       "                   1.5449974, 1.5489488, 1.5529002, 1.5568516, 1.560803 ,\n",
       "                   1.5647544, 1.5687058, 1.5726572, 1.5766086, 1.58056  ,\n",
       "                   1.5845114, 1.5884628, 1.5924142, 1.5963656, 1.600317 ,\n",
       "                   1.6042684, 1.6082198, 1.6121712, 1.6161226, 1.620074 ,\n",
       "                   1.6240254, 1.6279768, 1.6319282, 1.6358796, 1.639831 ,\n",
       "                   1.6437824, 1.6477338, 1.6516852, 1.6556366, 1.659588 ,\n",
       "                   1.6635394, 1.6674908, 1.6714422, 1.6753936, 1.679345 ,\n",
       "                   1.6832964, 1.6872478, 1.6911992, 1.6951506, 1.699102 ,\n",
       "                   1.7030534, 1.7070048, 1.7109562, 1.7149076, 1.718859 ,\n",
       "                   1.7228104, 1.7267618, 1.7307132, 1.7346646, 1.738616 ,\n",
       "                   1.7425674, 1.7465188, 1.7504702, 1.7544216, 1.758373 ,\n",
       "                   1.7623244, 1.7662758, 1.7702272, 1.7741786, 1.77813  ,\n",
       "                   1.7820814, 1.7860328, 1.7899842, 1.7939356, 1.797887 ,\n",
       "                   1.8018384, 1.8057898, 1.8097412, 1.8136926, 1.817644 ,\n",
       "                   1.8215954, 1.8255468, 1.8294982, 1.8334496, 1.837401 ,\n",
       "                   1.8413524, 1.8453038, 1.8492552, 1.8532066, 1.857158 ,\n",
       "                   1.8611094, 1.8650608, 1.8690122, 1.8729636, 1.876915 ,\n",
       "                   1.8808664, 1.8848178, 1.8887692, 1.8927206, 1.896672 ,\n",
       "                   1.9006234, 1.9045748, 1.9085262, 1.9124776, 1.916429 ,\n",
       "                   1.9203804, 1.9243318, 1.9282832, 1.9322346, 1.936186 ,\n",
       "                   1.9401374, 1.9440888, 1.9480402, 1.9519916, 1.955943 ,\n",
       "                   1.9598944, 1.9638458, 1.9677972, 1.9717486, 1.9757   ],\n",
       "             mask=False,\n",
       "       fill_value=1e+20)"
      ]
     },
     "execution_count": 33,
     "metadata": {},
     "output_type": "execute_result"
    }
   ],
   "source": [
    "xgcdata['t'][:]*1e3"
   ]
  },
  {
   "cell_type": "code",
   "execution_count": null,
   "metadata": {},
   "outputs": [],
   "source": []
  }
 ],
 "metadata": {
  "kernelspec": {
   "display_name": "research-forge",
   "language": "python",
   "name": "python3"
  },
  "language_info": {
   "codemirror_mode": {
    "name": "ipython",
    "version": 3
   },
   "file_extension": ".py",
   "mimetype": "text/x-python",
   "name": "python",
   "nbconvert_exporter": "python",
   "pygments_lexer": "ipython3",
   "version": "3.12.6"
  }
 },
 "nbformat": 4,
 "nbformat_minor": 2
}
