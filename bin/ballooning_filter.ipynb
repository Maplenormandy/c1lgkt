{
 "cells": [
  {
   "cell_type": "markdown",
   "metadata": {},
   "source": [
    "# Ballooning Filter\n",
    "This notebook is for prototyping a filter in ballooning space, used to generate synthetic global mode structures"
   ]
  },
  {
   "cell_type": "markdown",
   "metadata": {},
   "source": [
    "## Import and Setup"
   ]
  },
  {
   "cell_type": "code",
   "execution_count": null,
   "metadata": {},
   "outputs": [],
   "source": [
    "# %% Imports\n",
    "%load_ext autoreload\n",
    "%autoreload 2\n",
    "\n",
    "# numpy+scipy\n",
    "import numpy as np\n",
    "import scipy.interpolate\n",
    "import scipy.integrate\n",
    "import scipy.signal\n",
    "import scipy.optimize\n",
    "\n",
    "# matplotlib+tqdm\n",
    "import matplotlib.pyplot as plt\n",
    "import matplotlib as mpl\n",
    "from tqdm.notebook import tqdm\n",
    "%matplotlib qt\n",
    "\n",
    "# Data loading\n",
    "from netCDF4 import Dataset\n",
    "\n",
    "# c1lgkt codes\n",
    "from c1lgkt.fields.equilibrium import Equilibrium\n",
    "from c1lgkt.fields.field_handlers import XgcZonalFieldHandler, GaussHermiteFunction\n",
    "from c1lgkt.fields.field_interpolators import sum_balloon_mode\n",
    "from c1lgkt.fields.geometry_handlers import XgcGeomHandler\n",
    "from c1lgkt.fields.utility import periodify"
   ]
  },
  {
   "cell_type": "code",
   "execution_count": 20,
   "metadata": {
    "vscode": {
     "languageId": "html"
    }
   },
   "outputs": [
    {
     "data": {
      "text/html": [
       "<!-- Hack to make tqdm bar dark: https://stackoverflow.com/questions/71534901/make-tqdm-bar-dark-in-vscode-jupyter-notebook -->\n",
       "<style>\n",
       ".cell-output-ipywidget-background {\n",
       "    background-color: transparent !important;\n",
       "}\n",
       ":root {\n",
       "    --jp-widgets-color: var(--vscode-editor-foreground);\n",
       "    --jp-widgets-font-size: var(--vscode-editor-font-size);\n",
       "}  \n",
       "</style>\n"
      ],
      "text/plain": [
       "<IPython.core.display.HTML object>"
      ]
     },
     "metadata": {},
     "output_type": "display_data"
    }
   ],
   "source": [
    "%%html\n",
    "<!-- Hack to make tqdm bar dark: https://stackoverflow.com/questions/71534901/make-tqdm-bar-dark-in-vscode-jupyter-notebook -->\n",
    "<style>\n",
    ".cell-output-ipywidget-background {\n",
    "    background-color: transparent !important;\n",
    "}\n",
    ":root {\n",
    "    --jp-widgets-color: var(--vscode-editor-foreground);\n",
    "    --jp-widgets-font-size: var(--vscode-editor-font-size);\n",
    "}  \n",
    "</style>"
   ]
  },
  {
   "cell_type": "code",
   "execution_count": null,
   "metadata": {},
   "outputs": [],
   "source": [
    "# %% Load data files\n",
    "eq = Equilibrium.from_eqdfile(R'D:\\Documents\\IFS\\hmode_jet\\D3D141451.eqd')\n",
    "xgcdata = Dataset(R'D:\\Documents\\Globus\\XGC1.nc')\n",
    "\n",
    "geom_files = {\n",
    "    'ele_filename': R'D:\\Documents\\IFS\\hmode_jet\\Seo.eqd.ele',\n",
    "    'fdmat_filename': R'D:\\Documents\\IFS\\hmode_jet\\fdmat.pkl',\n",
    "    'min_e_filename': R'D:\\Documents\\IFS\\hmode_jet\\min_E_mat.pkl'\n",
    "}\n",
    "geom = XgcGeomHandler(eq, xgcdata, theta0_mode='max_drive', **geom_files)"
   ]
  },
  {
   "cell_type": "code",
   "execution_count": null,
   "metadata": {},
   "outputs": [],
   "source": [
    "# %% Load the potential at one time point\n",
    "tind = 401\n",
    "dpot = xgcdata['dpot'][tind,:,:]\n",
    "zonal_fields = XgcZonalFieldHandler(eq, xgcdata, tind)"
   ]
  },
  {
   "cell_type": "markdown",
   "metadata": {},
   "source": [
    "### Plots"
   ]
  },
  {
   "cell_type": "code",
   "execution_count": null,
   "metadata": {},
   "outputs": [
    {
     "data": {
      "text/plain": [
       "[<matplotlib.lines.Line2D at 0x262fba6e3f0>]"
      ]
     },
     "execution_count": 10,
     "metadata": {},
     "output_type": "execute_result"
    }
   ],
   "source": [
    "# %% Plot the equilibrium along with theta0\n",
    "plt.figure()\n",
    "ax = plt.subplot(111)\n",
    "eq.plot_magnetic_geometry(ax)\n",
    "\n",
    "r0 = []\n",
    "z0 = []\n",
    "\n",
    "for ksurf in range(1, geom.nsurf):\n",
    "    r = geom.rz_node[geom.breaks_surf[ksurf]:geom.breaks_surf[ksurf+1],0]\n",
    "    z = geom.rz_node[geom.breaks_surf[ksurf]:geom.breaks_surf[ksurf+1],1]\n",
    "\n",
    "    theta_surf = geom.theta_node[geom.breaks_surf[ksurf]:geom.breaks_surf[ksurf+1]]\n",
    "\n",
    "    r0.append(scipy.interpolate.CubicSpline(periodify(theta_surf), periodify(r, period=0))(0))\n",
    "    z0.append(scipy.interpolate.CubicSpline(periodify(theta_surf), periodify(z, period=0))(0))\n",
    "\n",
    "plt.plot(r0, z0)"
   ]
  },
  {
   "cell_type": "markdown",
   "metadata": {},
   "source": [
    "## Computing FFTs"
   ]
  },
  {
   "cell_type": "code",
   "execution_count": 13,
   "metadata": {},
   "outputs": [
    {
     "data": {
      "application/vnd.jupyter.widget-view+json": {
       "model_id": "bb607dba81cd4abb930a0bd4bd0c3848",
       "version_major": 2,
       "version_minor": 0
      },
      "text/plain": [
       "  0%|          | 0/249 [00:00<?, ?it/s]"
      ]
     },
     "metadata": {},
     "output_type": "display_data"
    }
   ],
   "source": [
    "# %% Compute the upsampled FFT\n",
    "\n",
    "\"\"\"\n",
    "The basic idea is this: the finite toroidal resolution of the XGC data\n",
    "leads to aliasing issues if we try to take the toroidal FFT of dpot directly.\n",
    "Instead, we perform the following:\n",
    "\n",
    "for each flux surface:\n",
    "    1) upsample to a fine grid in phi\n",
    "    2) take the FFT in phi\n",
    "    3) restrict back to the original mode numbers in phi\n",
    "\n",
    "This should give us a more accurate representation of the toroidal mode\n",
    "structure of the potential.\n",
    "\"\"\"\n",
    "\n",
    "## Parameters\n",
    "# Range of flux surfaces to consider\n",
    "ksurf0, ksurf1 = 1, geom.nsurf\n",
    "# number of phi values; 0 is the original, 1 is the upsampled, 2 is the truncated\n",
    "nphi0 = dpot.shape[0]\n",
    "nphi1 = 256\n",
    "nphi2 = 64\n",
    "\n",
    "## Grids and functions\n",
    "# Set up grids\n",
    "phi_orig = np.linspace(0, 2*np.pi/3, nphi0, endpoint=False)\n",
    "phi_samp = np.linspace(0, 2*np.pi/3, nphi1, endpoint=False)\n",
    "\n",
    "# Set up the upsampled FFT\n",
    "dpot_fft = np.zeros((nphi2//2+1, dpot.shape[1]), dtype=complex)\n",
    "\n",
    "\n",
    "# Quadratic smoothing interpolation\n",
    "phi_coefs = np.array([[ 0.25, -0.5,  0.25,  0. ],\n",
    "                      [ 0.5 ,  0. , -0.25,  0. ],\n",
    "                      [ 0.25,  0.5, -0.25,  0. ],\n",
    "                      [ 0.  ,  0. ,  0.25,  0. ]])\n",
    "\n",
    "for ksurf in tqdm(range(ksurf0, ksurf1)):\n",
    "    ## Set up the interpolation functions in theta\n",
    "    theta_surf = geom.theta_node[geom.breaks_surf[ksurf]:geom.breaks_surf[ksurf+1]]\n",
    "    dpot_surf = dpot[:,geom.breaks_surf[ksurf]:geom.breaks_surf[ksurf+1]]\n",
    "    dpot_funcs = [scipy.interpolate.CubicSpline(periodify(theta_surf), periodify(dpot_surf[k,:], period=0), bc_type='periodic') for k in range(dpot_surf.shape[0])]\n",
    "\n",
    "    # Get the q value\n",
    "    q_surf = geom.interp_q(geom.psi_surf[ksurf])\n",
    "\n",
    "    # Set up the upsampled grids\n",
    "    dpot_upsamp = np.empty((nphi1, dpot_surf.shape[1]))\n",
    "\n",
    "    # Array to hold field line interpolations\n",
    "    dpot_fieldline = np.empty((nphi0, dpot_surf.shape[1]))\n",
    "\n",
    "    ## Upsample the potential\n",
    "    for kphi in range(nphi1):\n",
    "        # Index of the reference phi value\n",
    "        kphi_ref = kphi * nphi0 // nphi1\n",
    "\n",
    "        # Compute the potential along the field line\n",
    "        for kphi0 in range(nphi0):\n",
    "            # Shift kphi0 to the correct range\n",
    "            dkphi0 = (kphi0 + kphi_ref) % nphi0\n",
    "            # Restrict dphi0 to [-2pi/6, 2pi/6]\n",
    "            dphi0 = np.mod(phi_samp[kphi] - phi_orig[dkphi0] + 2*np.pi/6, 2*np.pi/3) - 2*np.pi/6\n",
    "            # Use the theta value on the field line\n",
    "            theta_k = theta_surf - dphi0 / q_surf\n",
    "            # Compute the potentials\n",
    "            dpot_fieldline[(kphi0+1)%nphi0,:] = dpot_funcs[dkphi0](theta_k)\n",
    "\n",
    "        ## Compute the interpolation/filtering\n",
    "\n",
    "        # Compute the basis functions for interpolation\n",
    "        dvarphi = 2*np.pi/48 \n",
    "        phifrac = (phi_samp[kphi] - phi_orig[kphi_ref]) / (2*np.pi/48)\n",
    "        hbasis = ((phi_coefs[:,3] * phifrac + phi_coefs[:,2]) * phifrac + phi_coefs[:,1]) * phifrac + phi_coefs[:,0]\n",
    "\n",
    "        # Compute filter\n",
    "        hfilter = scipy.signal.windows.lanczos(16-1)[1:-1]\n",
    "        hfilter = hfilter / np.sum(hfilter)\n",
    "\n",
    "        # Compute the interpolated potential\n",
    "        dpot_interp = [np.convolve(hbasis, dpot_fieldline[:,k], mode='valid') for k in range(dpot_surf.shape[1])]\n",
    "        dpot_filter = [np.convolve(hfilter, dpot_interp[k], mode='valid')[0] for k in range(dpot_surf.shape[1])]\n",
    "        dpot_upsamp[kphi,:] = dpot_filter\n",
    "\n",
    "    ## Compute then restrict the fft\n",
    "    dpot_upsamp_fft = np.fft.rfft(dpot_upsamp, axis=0)\n",
    "    dpot_fft[:,geom.breaks_surf[ksurf]:geom.breaks_surf[ksurf+1]] = dpot_upsamp_fft[:nphi2//2+1,:]"
   ]
  },
  {
   "cell_type": "markdown",
   "metadata": {},
   "source": [
    "### Analysis"
   ]
  },
  {
   "cell_type": "code",
   "execution_count": 14,
   "metadata": {},
   "outputs": [],
   "source": [
    "# %% Sum the power spectrum of the potential as a function of q\n",
    "dpot_power = np.zeros((ksurf1-ksurf0, dpot_fft.shape[0]))\n",
    "\n",
    "for k in range(ksurf0,ksurf1):\n",
    "    dpot_surf = dpot_fft[:,geom.breaks_surf[k]:geom.breaks_surf[k+1]]\n",
    "    dpot_power[k-ksurf0,:] = np.average(np.abs(dpot_surf)**2, axis=1)"
   ]
  },
  {
   "cell_type": "code",
   "execution_count": 15,
   "metadata": {},
   "outputs": [
    {
     "data": {
      "text/plain": [
       "[<matplotlib.lines.Line2D at 0x262a5fe3740>]"
      ]
     },
     "execution_count": 15,
     "metadata": {},
     "output_type": "execute_result"
    }
   ],
   "source": [
    "# %% Plot the FFT at a given n\n",
    "\n",
    "plt.figure()\n",
    "plt.axis('equal')\n",
    "plt.tripcolor(geom.rz_tri, np.real(dpot_fft[13,:]), shading='gouraud')\n",
    "\n",
    "ksurf = 200\n",
    "rz_surf = geom.rz_node[geom.breaks_surf[ksurf]:geom.breaks_surf[ksurf+1],:]\n",
    "\n",
    "plt.plot(rz_surf[:,0], rz_surf[:,1], c='k')"
   ]
  },
  {
   "cell_type": "code",
   "execution_count": 16,
   "metadata": {},
   "outputs": [
    {
     "data": {
      "text/plain": [
       "<matplotlib.legend.Legend at 0x262a5fe1700>"
      ]
     },
     "execution_count": 16,
     "metadata": {},
     "output_type": "execute_result"
    }
   ],
   "source": [
    "# %% Plot the power spectrum as a function of q\n",
    "\n",
    "plt.figure()\n",
    "\n",
    "linestyles = ['solid', 'dotted', 'dashed', 'dashdot']\n",
    "\n",
    "for n in range(dpot_power.shape[1]):\n",
    "    plt.plot(-geom.interp_q(geom.psi_surf[ksurf0:ksurf1]), np.abs(dpot_power[:,n]), c=mpl.cm.rainbow(n/(dpot_power.shape[1]-1)), label=f'n/3 = {n}', ls=linestyles[n%4])\n",
    "\n",
    "plt.legend()"
   ]
  },
  {
   "cell_type": "markdown",
   "metadata": {},
   "source": [
    "## Compute Resampled Potential"
   ]
  },
  {
   "cell_type": "code",
   "execution_count": null,
   "metadata": {},
   "outputs": [
    {
     "data": {
      "application/vnd.jupyter.widget-view+json": {
       "model_id": "027bf3519aa143a8ad1d95b476f50a71",
       "version_major": 2,
       "version_minor": 0
      },
      "text/plain": [
       "  0%|          | 0/249 [00:00<?, ?it/s]"
      ]
     },
     "metadata": {},
     "output_type": "display_data"
    },
    {
     "data": {
      "application/vnd.jupyter.widget-view+json": {
       "model_id": "e620c073b55c4d8ea535511930235134",
       "version_major": 2,
       "version_minor": 0
      },
      "text/plain": [
       "  0%|          | 0/1024 [00:00<?, ?it/s]"
      ]
     },
     "metadata": {},
     "output_type": "display_data"
    }
   ],
   "source": [
    "# %% Resample onto regular grid in q, theta\n",
    "\n",
    "# Pick an nphi to focus on. NOTE: ntor = 3*nphi\n",
    "nphi = 13\n",
    "\n",
    "# First, resample each flux surface into a regular grid in theta\n",
    "theta_samp = np.linspace(-np.pi, np.pi, 1024, endpoint=False)\n",
    "\n",
    "dpot_samp = np.zeros((len(theta_samp), ksurf1-ksurf0), dtype=complex)\n",
    "\n",
    "for k in tqdm(range(ksurf0,ksurf1)):\n",
    "    theta_surf = geom.theta_node[geom.breaks_surf[k]:geom.breaks_surf[k+1]]\n",
    "    \n",
    "    dpot_surf = dpot_fft[nphi,geom.breaks_surf[k]:geom.breaks_surf[k+1]]\n",
    "    \n",
    "    dpot_interp = scipy.interpolate.CubicSpline(periodify(theta_surf), periodify(dpot_surf, period=0), bc_type='periodic')\n",
    "    \n",
    "    dpot_samp[:,k-ksurf0] = dpot_interp(theta_samp)\n",
    "\n",
    "# Next, resample each q surface into a regular grid in q\n",
    "q_samp = np.linspace(geom.interp_q(geom.psi_surf[ksurf0]), geom.interp_q(geom.psi_surf[ksurf1-1]), 512)[::-1]\n",
    "\n",
    "dpot_grid = np.zeros((len(theta_samp), len(q_samp)), dtype=complex)\n",
    "\n",
    "for j in tqdm(range(len(theta_samp))):\n",
    "    dpot_interp = scipy.interpolate.CubicSpline(-geom.interp_q(geom.psi_surf[ksurf0:ksurf1]), dpot_samp[j,:])\n",
    "    \n",
    "    dpot_grid[j,:] = dpot_interp(-q_samp)\n",
    "\n",
    "q_grid, theta_grid = np.meshgrid(q_samp, theta_samp)\n",
    "\n",
    "## Compute the envelope assumuing the strong ballooning limit\n",
    "inv_eikonal = np.exp(1j*(3*nphi)*(q_samp[np.newaxis,:])*theta_samp[:,np.newaxis])\n",
    "dpot_grid_env = dpot_grid*inv_eikonal"
   ]
  },
  {
   "cell_type": "markdown",
   "metadata": {},
   "source": [
    "### Analysis"
   ]
  },
  {
   "cell_type": "code",
   "execution_count": null,
   "metadata": {},
   "outputs": [
    {
     "data": {
      "text/plain": [
       "<matplotlib.collections.QuadMesh at 0x262a82970e0>"
      ]
     },
     "execution_count": 22,
     "metadata": {},
     "output_type": "execute_result"
    }
   ],
   "source": [
    "# %% Plot the resampled potential\n",
    "\n",
    "plt.figure()\n",
    "\n",
    "# Resampled potential\n",
    "ax = plt.subplot(121)\n",
    "plt.pcolormesh(q_samp, theta_samp, np.real(dpot_grid), norm=mpl.colors.CenteredNorm(), cmap='PiYG')\n",
    "\n",
    "# Resampled potential removing the eikonal\n",
    "plt.subplot(122, sharex=ax, sharey=ax)\n",
    "plt.pcolormesh(q_samp, theta_samp, np.real(dpot_grid_env), norm=mpl.colors.CenteredNorm(), cmap='PiYG')"
   ]
  },
  {
   "cell_type": "code",
   "execution_count": 23,
   "metadata": {},
   "outputs": [
    {
     "data": {
      "text/plain": [
       "[<matplotlib.lines.Line2D at 0x262a8315f10>]"
      ]
     },
     "execution_count": 23,
     "metadata": {},
     "output_type": "execute_result"
    }
   ],
   "source": [
    "# %% Plot of envelope and mode structure\n",
    "\n",
    "plt.figure()\n",
    "\n",
    "ax = plt.subplot(311)\n",
    "plt.plot(q_samp, np.abs(dpot_grid_env[len(theta_samp)//2,:]))\n",
    "\n",
    "plt.subplot(312, sharex=ax)\n",
    "plt.plot(geom.q_surf[:240], -zonal_fields.interp_phi(geom.psi_surf[:240], nu=1), c='tab:orange')\n",
    "plt.axhline(0, c='k', ls='--')\n",
    "\n",
    "# Peak of the envelope\n",
    "env_qind_max = np.argmax(np.abs(dpot_grid_env[len(theta_samp)//2,:]))\n",
    "\n",
    "plt.subplot(313)\n",
    "plt.plot(theta_samp, np.real(dpot_grid_env[:,env_qind_max]))\n",
    "plt.plot(theta_samp, np.imag(dpot_grid_env[:,env_qind_max]))"
   ]
  },
  {
   "cell_type": "markdown",
   "metadata": {},
   "source": [
    "## Fitting Ballooning Mode"
   ]
  },
  {
   "cell_type": "code",
   "execution_count": 57,
   "metadata": {},
   "outputs": [
    {
     "name": "stdout",
     "output_type": "stream",
     "text": [
      "Optimization terminated successfully.\n",
      "Optimization terminated successfully.\n"
     ]
    }
   ],
   "source": [
    "# %% Perform a Gaussian fit\n",
    "\n",
    "## q range to fit\n",
    "q_inds = np.searchsorted(q_samp, [-2.3, -1.8])\n",
    "\n",
    "# Flatten the data\n",
    "theta_data = theta_grid[:,q_inds[0]:q_inds[1]].flatten()\n",
    "q_data = q_grid[:,q_inds[0]:q_inds[1]].flatten()\n",
    "dpot_data = dpot_grid[:,q_inds[0]:q_inds[1]].flatten()\n",
    "\n",
    "## Initial guess\n",
    "# Take the maximum of the envelope\n",
    "env_qind_max = np.argmax(np.abs(dpot_grid_env[len(theta_samp)//2,:]))\n",
    "mu_q0 = q_samp[env_qind_max]\n",
    "env_thind_max = np.argmax(np.abs(dpot_grid_env[:,env_qind_max]))\n",
    "mu_theta0 = theta_samp[env_thind_max]\n",
    "a00_r = np.real(dpot_grid_env[env_thind_max,env_qind_max])\n",
    "a00_i = np.imag(dpot_grid_env[env_thind_max,env_qind_max])\n",
    "\n",
    "params0 = np.array([mu_q0, mu_theta0, 0.1, np.pi/4, a00_r, a00_i])\n",
    "\n",
    "## First-pass fit that uses only the Gaussian\n",
    "\n",
    "# Define objective function\n",
    "def objective_function_gaussian(params):\n",
    "    gauss_balloon = GaussHermiteFunction(params[:4], params[4:])\n",
    "    pot_trial = sum_balloon_mode(q_data, theta_data, 1, 3*nphi, gauss_balloon, False)\n",
    "    return np.log(np.sum(np.abs(pot_trial - dpot_data)**2))\n",
    "\n",
    "res_g = scipy.optimize.minimize(objective_function_gaussian, params0)\n",
    "print(res_g.message)\n",
    "\n",
    "\n",
    "## Next-pass fit; keep the location/scale parameters fixed while varying the Gauss-Hermite coefficients\n",
    "params_g = res_g.x[:4]\n",
    "\n",
    "# Define the order of the coefficients\n",
    "def objective_function_ghermite(params):\n",
    "    ghermite_balloon = GaussHermiteFunction(params_g, params)\n",
    "    pot_trial = sum_balloon_mode(q_data, theta_data, 1, 3*nphi, ghermite_balloon, False)\n",
    "    return np.log(np.sum(np.abs(pot_trial - dpot_data)**2))\n",
    "\n",
    "params0 = np.concatenate((res_g.x[4:], np.zeros(10)))\n",
    "res_gh = scipy.optimize.minimize(objective_function_ghermite, params0)\n",
    "print(res_gh.message)"
   ]
  },
  {
   "cell_type": "markdown",
   "metadata": {},
   "source": [
    "### Save Results"
   ]
  },
  {
   "cell_type": "code",
   "execution_count": null,
   "metadata": {},
   "outputs": [],
   "source": [
    "np.savez('./outputs/fit_results.npz', res_g=res_g, res_gh=res_gh)"
   ]
  },
  {
   "cell_type": "markdown",
   "metadata": {},
   "source": [
    "### Plots"
   ]
  },
  {
   "cell_type": "code",
   "execution_count": null,
   "metadata": {},
   "outputs": [
    {
     "data": {
      "text/plain": [
       "<matplotlib.collections.QuadMesh at 0x262d72374d0>"
      ]
     },
     "execution_count": 59,
     "metadata": {},
     "output_type": "execute_result"
    }
   ],
   "source": [
    "# %% Plot the result\n",
    "dpot_fit_g = sum_balloon_mode(q_grid, theta_grid, 1, 3*nphi, GaussHermiteFunction(res_g.x[:4], res_g.x[4:]), False)\n",
    "dpot_fit_gh = sum_balloon_mode(q_grid, theta_grid, 1, 3*nphi, GaussHermiteFunction(res_g.x[:4], res_gh.x), False)\n",
    "\n",
    "plt.figure()\n",
    "ax = plt.subplot(131)\n",
    "plt.pcolormesh(q_samp, theta_samp, np.real(dpot_grid), norm=mpl.colors.CenteredNorm(), cmap='PiYG')\n",
    "plt.subplot(132, sharex=ax, sharey=ax)\n",
    "plt.pcolormesh(q_samp, theta_samp, np.real(dpot_fit_g), norm=mpl.colors.CenteredNorm(), cmap='PiYG')\n",
    "plt.subplot(133, sharex=ax, sharey=ax)\n",
    "plt.pcolormesh(q_samp, theta_samp, np.real(dpot_fit_gh), norm=mpl.colors.CenteredNorm(), cmap='PiYG')"
   ]
  }
 ],
 "metadata": {
  "kernelspec": {
   "display_name": "research-forge",
   "language": "python",
   "name": "python3"
  },
  "language_info": {
   "codemirror_mode": {
    "name": "ipython",
    "version": 3
   },
   "file_extension": ".py",
   "mimetype": "text/x-python",
   "name": "python",
   "nbconvert_exporter": "python",
   "pygments_lexer": "ipython3",
   "version": "3.12.6"
  }
 },
 "nbformat": 4,
 "nbformat_minor": 2
}
